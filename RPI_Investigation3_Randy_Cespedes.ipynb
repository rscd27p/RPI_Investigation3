{
 "cells": [
  {
   "cell_type": "markdown",
   "id": "inside-chancellor",
   "metadata": {},
   "source": [
    "# Investigation 3 - Synthetic Data Generation\n",
    "\n",
    "## Pattern Recognition MP6122 - Master of Science in Electronics - Emphasis on Embedded Systems\n",
    "\n",
    "## Costa Rica TEC\n",
    "\n",
    "Professor: MSc. Felipe Meza\n",
    "Student: Randy Céspedes Deliyore - ID: 201054417\n",
    "\n",
    "This notebook will present the theoretical information related to **Synthetic Data Generation** and its potential fields of application.\n",
    "\n",
    "## Theoretical Concepts\n",
    "\n",
    "Its possible to start with a simple question: \n",
    "\n",
    "**What is synthethic data?**\n",
    "\n",
    "Several authors [1]–[2] define synthetic data as information that is generated artificially, programatically or synthetically. This data can be generated under different situations, for example:\n",
    "\n",
    "- **Privacy requirements:** Several datasets include privacy clauses or limit their use in other countries or industry areas. As it is described in [3], the US export control of artificial intelligence could be consider harmful for the reasearch community, since it limits the access of information to other countries. US-based Companies like Google, Apple and Salesforce have a competitivy advange in this field due to this regulations.\n",
    "\n",
    "- **Data does not exists:** Data may be required for testing a device to allow its deployment to the market, however, with this products this data may not exists. \n",
    "\n",
    "- **Large requirements of training data:** Machine Learning algorithms require data for their training, however, in some applications it could be very expensive to acquire it. For example, flight data for new aircrafts or data for self-driving vehicles.\n",
    "\n",
    "- **Justify Expenses for AI investments:** Synthetic data allow developers to produce POC (Proof of Concepts) to help justify companies investments in AI applications [4].\n",
    "\n",
    "\n",
    "\n",
    "\n",
    "\n",
    "The processing of this dataset is done in the jupyter notebook named [Investigation2_Cespedes_Randy_PartI.ipynb](https://github.com/rscd27p/Investigacion_2_RP).\n",
    "\n"
   ]
  },
  {
   "cell_type": "code",
   "execution_count": null,
   "id": "caring-panel",
   "metadata": {},
   "outputs": [],
   "source": []
  },
  {
   "cell_type": "markdown",
   "id": "competitive-salem",
   "metadata": {},
   "source": [
    "## Bibliography\n",
    "\n",
    "[1]\tC. Dilmegani, \"The Ultimate Guide to Synthetic Data in 2021,\" 2 February 2021. [Online]. Available: https://research.aimultiple.com/synthetic-data/. [Accessed 6 March 2021].\n",
    "\n",
    "[2] T. Sarkar, \"Synthetic data generation — a must-have skill for new data scientists,\" 19 December 2019. [Online]. Available: https://towardsdatascience.com/synthetic-data-generation-a-must-have-skill-for-new-data-scientists-915896c0c1ae. [Accessed 6 March 2021].\n",
    "\n",
    "[3] M. Riedl, \"US Export Control of Artificial Intelligence Research Considered Harmful,\" 4 December 2018. [Online]. Available: https://mark-riedl.medium.com/us-export-control-of-artificial-intelligence-research-considered-harmful-fb2986fb3f14. [Accessed 8 March 2021].\n",
    "\n",
    "[4] A. Gonfalonieri, \"Do You Need Synthetic Data For Your AI Project?,\" 21 October 2019. [Online]. Available: https://towardsdatascience.com/do-you-need-synthetic-data-for-your-ai-project-e7ecc2072d6b. [Accessed 7 March 2021].\n",
    "\n",
    "[2] M. Saeed, \"Generating Synthetic Data with Numpy and Scikit-Learn,\" 14 October 2020. [Online]. Available: https://stackabuse.com/generating-synthetic-data-with-numpy-and-scikit-learn/. [Accessed 4 March 2021].\n",
    "\n",
    "[1]\tM. S. Santos, R. C. Pereira, A. F. Costa, J. P. Soares, J. Santos, and P. H. Abreu, “Generating synthetic missing data: A review by missing mechanism,” IEEE Access, vol. 7, pp. 11651–11667, 2019, doi: 10.1109/ACCESS.2019.2891360. \n",
    "\n",
    "[2]\tJ. W. Anderson, K. E. Kennedy, L. B. Ngo, A. Luckow, and A. W. Apon, “Synthetic data generation for the internet of things,” Proc. - 2014 IEEE Int. Conf. Big Data, IEEE Big Data 2014, pp. 171–176, 2014, doi: 10.1109/BigData.2014.7004228.\n",
    "\n",
    "[3]\tA. M. Berg, S. T. Mol, G. Kismihók, and N. Sclater, “The Role of a Reference Synthetic Data Generator within the Field of Learning Analytics.,” J. Learn. Anal., vol. 3, no. 1, pp. 107–128, 2016, doi: 10.18608/jla.2016.31.7.\n",
    "\n",
    "[5]\tC. Dilmegani, \"Synthetic Data Generation: Techniques, Best Practices & Tools,\" 13 January 2021. [Online]. Available: https://research.aimultiple.com/synthetic-data-generation/. [Accessed 8 March 2021]."
   ]
  },
  {
   "cell_type": "code",
   "execution_count": null,
   "id": "handy-grain",
   "metadata": {},
   "outputs": [],
   "source": []
  }
 ],
 "metadata": {
  "kernelspec": {
   "display_name": "Python 3",
   "language": "python",
   "name": "python3"
  },
  "language_info": {
   "codemirror_mode": {
    "name": "ipython",
    "version": 3
   },
   "file_extension": ".py",
   "mimetype": "text/x-python",
   "name": "python",
   "nbconvert_exporter": "python",
   "pygments_lexer": "ipython3",
   "version": "3.9.1"
  }
 },
 "nbformat": 4,
 "nbformat_minor": 5
}
