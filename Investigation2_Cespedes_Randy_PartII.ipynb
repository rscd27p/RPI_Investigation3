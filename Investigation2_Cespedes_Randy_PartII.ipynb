{
 "cells": [
  {
   "cell_type": "markdown",
   "id": "contemporary-lucas",
   "metadata": {},
   "source": [
    "# Investigation 2 - Supervised Learning\n",
    "\n",
    "## Pattern Recognition MP6122 - Master of Science in Electronics - Emphasis on Embedded Systems\n",
    "\n",
    "## Costa Rica TEC\n",
    "\n",
    "Professor: MSc. Felipe Meza\n",
    "Student: Randy Céspedes Deliyore - ID: 201054417\n",
    "\n",
    "This notebook would be used to compare the results of doing a bechmark over different supervised learning algorithms over the data set is named **COVID-19 Airline Flight Delays and Cancellations** and can be found [here](https://www.kaggle.com/akulbahl/covid19-airline-flight-delays-and-cancellations).\n",
    "\n",
    "The processing of this dataset is done in the jupyter notebook named [Investigation2_Cespedes_Randy_PartI.ipynb](https://github.com/rscd27p/Investigacion_2_RP).\n",
    "\n",
    "The intial dataset was over 600 MB and was reduced to 35 MB.\n",
    "\n",
    "The dataset would be used to classify delayed flights for their main cause of delay. The classes are:\n",
    "\n",
    "CC: Carrier Delay.<br/>\n",
    "WD: Weather Delay.<br/>\n",
    "ND: NAS Delay.<br/>\n",
    "SD: Security Delay.<br/>\n",
    "LAD: Late Aircraft Delay.<br/>\n",
    "\n",
    "Since there are five different classes, this is considered a _multi-class_ classification problem. \n",
    "\n",
    "## Evaluation Metrics or Techniques\n",
    "\n",
    "Using the right metrics to evaluate an algorithms is key to evaluate their efectivity and have a common ground to compare multiple type of models. The information related to this metric was extracted from this two documents:\n",
    "\n",
    "$[1]$[20 Popular Machine Learning Metrics. Part 1: Classification & Regression Evaluation Metrics](https://towardsdatascience.com/20-popular-machine-learning-metrics-part-1-classification-regression-evaluation-metrics-1ca3e282a2ce) by [Shervin Minaee](https://sites.google.com/site/shervinminaee/home), who is a Machine Learning Researcher that holds a PhD in Electrical and Computer Engineering and Computer Science.\n",
    "\n",
    "$[2]$[Metrics to Evaluate your Machine Learning Algorithm](https://towardsdatascience.com/metrics-to-evaluate-your-machine-learning-algorithm-f10ba6e38234) by [Aditya Mishra](https://medium.com/@adi_myth).\n",
    "\n",
    "$[3]$[Accuracy, Precision, Recall or F1?](https://towardsdatascience.com/accuracy-precision-recall-or-f1-331fb37c5cb9) by [Koo Ping Shung](https://koopingshung.com/about/).\n",
    "\n",
    "\n",
    "### 1- Classification Accuracy (Used)\n",
    "\n",
    "Both articles agree that is a simple metric that allows to keep track of the **ratio of correct predictions**. This is represented by the equation below:\n",
    "\n",
    "$ Accurracy = \\frac{Number of Correct Predictions}{Total Number of Predictions Made} $\n",
    "\n",
    "Based on **$[1]$** there is a caveat when using it with samples that belong two different classes. For example, Lets asume that we have two classes:\n",
    "\n",
    "1-Class A.<br/>\n",
    "2-Class B.<br/>\n",
    "\n",
    "If we use 98% of elements of Class A and 2% of Class B in our training set, its possible to get a training accurracy of up to 98%. However, if we use 60% of elements from Class A, and 40% from Class B. We can get a value of up to 60% accuracy, which is a good result. However this does not mean that the system is going to recognize a 100% of the samples all the time.\n",
    "\n",
    "### 2- Logarithmic Loss (Used)\n",
    "\n",
    "The logarithmic loss or _log loss_ is used to penalize missclassifications. This works particularly well with multi-class classification algorithm. When using this metric, the classifier must assign a probability for an element belonging to each class for all the samples. The _log loss_ is represented by the following equation:\n",
    "\n",
    "$ LogarithmicLoss = \\frac{-1}{N} \\sum_{i=1}^{N}\\sum_{j=1}^{M} y_{ij} * log(p_{ij}) $ <br/><br/>\n",
    "$ N: Samples belonging to M classes $ <br/><br/>\n",
    "$ M: Classes $ <br/><br/>\n",
    "$ y_{ij} $ indicates the probability that sample i belongs to class j or not <br/><br/>\n",
    "$ p_{ij} $ indicates the probability that sample i belongs to class j <br/><br/>\n",
    "\n",
    "The log loss does not have an upper bound so it means and could have any value from zero to + infinity. The lower the value is to zero the higher is the accuracy.\n",
    "\n",
    "### 3- Confusion Metric (Used)\n",
    "\n",
    "A confusion matrix provides a summary of the performance of the whole model. It is easier to use an example to explain it. Lets assume there is a group of 1000 samples that could either be classified as **YES** or **NO**. (This example is adapted from $[2]$).\n",
    "\n",
    "| Number of Samples= 165 \t| Predicted NO \t| Predicted YES \t|\n",
    "|:----------------------:\t|:------------:\t|:-------------:\t|\n",
    "|        Actual NO       \t|      50      \t|       10      \t|\n",
    "|       Actual YES       \t|       5      \t|      100      \t|\n",
    "\n",
    "Iti s important to understand the four terms in the confusion matrix below:\n",
    "\n",
    "|   Number of Samples \t|  Predicted NO  \t|  Predicted YES \t|\n",
    "|:----------------------:\t|:--------------:\t|:--------------:\t|\n",
    "|        Actual NO       \t|  True Negative \t| False Positive \t|\n",
    "|       Actual YES       \t| False Negative \t|  True Positive \t|\n",
    "\n",
    "### 4- F1 Score (Used)\n",
    "\n",
    "**F1 Score** is a combination of two metrics named:\n",
    "\n",
    " - **Precision**: Based on $ [2] $ there are many situations in which the use of the _classification accuracy_ is not a good indicator of performance. For example, in cases where there are multi-class datasets and that there is imbalance, just like in the case of the dataset being used.The idea behind is to create a class-related metric, due to that it has to be done for each class independently and it is define by the following equation:\n",
    "\n",
    "$ Precision = \\frac{True\\_Positive}{True\\_Positive + False\\_Positive} $<br/><br/>\n",
    "\n",
    "The equation above uses the terms higlighed in the confusion matrix below:\n",
    "\n",
    "|   Number of Samples \t|  Predicted NO  \t|  Predicted YES \t|\n",
    "|:----------------------:\t|:--------------:\t|:--------------:\t|\n",
    "|        Actual NO       \t|  True Negative \t| <span style=\"color: red\">**False Positive**</span> \t|\n",
    "|       Actual YES       \t| False Negative \t|  <span style=\"color: red\">**True Positive**</span>.\t|\n",
    "\n",
    "\n",
    " - **Recall**: it is the number of correct positive results divided by the number of all the relevant samples $[1]$. It is define by the following equation:\n",
    " \n",
    "$ Recall = \\frac{True\\_Positive}{True\\_Positive + False\\_Positive} $\n",
    "\n",
    "The equation above uses the terms higlighed in the confusion matrix below:\n",
    "\n",
    "|   Number of Samples \t|  Predicted NO  \t|  Predicted YES \t|\n",
    "|:----------------------:\t|:--------------:\t|:--------------:\t|\n",
    "|        Actual NO       \t|  True Negative \t| False Positive \t|\n",
    "|       Actual YES       \t| <span style=\"color: blue\">**False Negative**</span> \t|  <span style=\"color: blue\">**True Positive**</span>.\t|\n",
    " \n",
    " <br/><br/>\n",
    "\n",
    "The equation for the F1 Score is:\n",
    "\n",
    "$ F1 = 2 * \\frac{Precision*Recall}{Precision+Recall} $\n",
    "\n",
    "**Important:** Precision, Recall and F1 are values between $[0:1]$ that could be represented by percentages by multipying them by a 100.\n",
    "\n",
    "\n",
    "## Cross Validation and Grid Search\n",
    "\n",
    "$[4]$[Cross Validation and Grid Search for Model Selection in Python](https://stackabuse.com/cross-validation-and-grid-search-for-model-selection-in-python/) by [Usman Malik](https://twitter.com/usman_malikk), PhD in artificial Intelligence.\n",
    "\n",
    "### Cross Validation\n",
    "\n",
    "In $[4]$ its explained how regularly data is divided into two subgroups:\n",
    "\n",
    "- **Training Datasets**.\n",
    "- **Test Datasets**.\n",
    "\n",
    "It is described how the acurracy obtained with the Training Dataset, used to train the model, could be very different from the one obtained with the Test Sets due to an invariance problems. A solution to this issue is to use K-Fold Cross-Validation. This method is used to divide the dataset into a $ K $ number of subdatasets. Then all the datasets except K-1 are used for training and the remaining dataset is used for testing.\n",
    "\n",
    "+Insert Image+ https://stackabuse.com/cross-validation-and-grid-search-for-model-selection-in-python/\n",
    "\n",
    "### Grid Search\n",
    "\n",
    "Machine learning models commonly have two kinds of parameters:\n",
    "\n",
    "- **Learned Parameters:** This parameters are learned by the machine learning model.\n",
    "- **Hyper Parameters**: The hyper parameters area the ones that are passed to learning model. The comon methodology based on $[4]$ is to randomly set the value of this and which values yield the best results. However, doing this randomly is ineficient and could take a long time. A Grid Search algorithm is one that could help find the best values for these hyper parameters.\n",
    "\n",
    "## Model Evaluation\n",
    "\n",
    "The models reviewed in class were:\n",
    "\n",
    "- **Linear Regression** (Evaluated)\n",
    "- **Linear Models for Multi-class classification** (Not Evaluated)\n",
    "- **KNN for classification** (Evaluated)\n",
    "- **Naive Bayes** (Evaluated)\n",
    "- **Decision Trees** (Evaluated)\n",
    "- **Random Forest**(Evaluated)\n",
    "- **Kernel SVM** (Not Evaluated)\n",
    "\n",
    "**Note:** The KNN for classification algorithm yielded bad results so it was decided to include another algorith what is good for multiclass classifiers, which is the _Random Forest_.\n",
    "\n",
    "### Extra Class Model\n",
    "\n",
    "- **Multi-Layer Perceptron - Neural Network** (Evaluated): This method documentation can be found [here](https://scikit-learn.org/stable/modules/neural_networks_supervised.html#multi-layer-perceptron), indicates how this method is good for multiclass classificationa dn one of the major benefits its that it can be updated using a method call **partial fit**, which allows the system to continuesly evolve.\n",
    "\n",
    "### Import General Libraries"
   ]
  },
  {
   "cell_type": "code",
   "execution_count": 19,
   "id": "liked-ocean",
   "metadata": {},
   "outputs": [],
   "source": [
    "import numpy as np\n",
    "import pandas as pd\n",
    "import seaborn as sns\n",
    "from matplotlib import pyplot as plt"
   ]
  },
  {
   "cell_type": "markdown",
   "id": "forbidden-weapon",
   "metadata": {},
   "source": [
    "### Load Dataset\n",
    "\n",
    "It is important to divide the dataset into testing and training data. It was decided to use 20% of the data for training and 80% for testing."
   ]
  },
  {
   "cell_type": "code",
   "execution_count": 2,
   "id": "ordinary-guyana",
   "metadata": {
    "scrolled": true
   },
   "outputs": [
    {
     "data": {
      "text/html": [
       "<div>\n",
       "<style scoped>\n",
       "    .dataframe tbody tr th:only-of-type {\n",
       "        vertical-align: middle;\n",
       "    }\n",
       "\n",
       "    .dataframe tbody tr th {\n",
       "        vertical-align: top;\n",
       "    }\n",
       "\n",
       "    .dataframe thead th {\n",
       "        text-align: right;\n",
       "    }\n",
       "</style>\n",
       "<table border=\"1\" class=\"dataframe\">\n",
       "  <thead>\n",
       "    <tr style=\"text-align: right;\">\n",
       "      <th></th>\n",
       "      <th>index</th>\n",
       "      <th>MONTH</th>\n",
       "      <th>DAY_OF_MONTH</th>\n",
       "      <th>DAY_OF_WEEK</th>\n",
       "      <th>MKT_UNIQUE_CARRIER</th>\n",
       "      <th>ORIGIN</th>\n",
       "      <th>ORIGIN_CITY_NAME</th>\n",
       "      <th>DEST</th>\n",
       "      <th>DEST_CITY_NAME</th>\n",
       "      <th>CRS_DEP_TIME</th>\n",
       "      <th>...</th>\n",
       "      <th>ARR_DELAY_GROUP</th>\n",
       "      <th>ACTUAL_ELAPSED_TIME</th>\n",
       "      <th>AIR_TIME</th>\n",
       "      <th>DISTANCE</th>\n",
       "      <th>CARRIER_DELAY</th>\n",
       "      <th>WEATHER_DELAY</th>\n",
       "      <th>NAS_DELAY</th>\n",
       "      <th>SECURITY_DELAY</th>\n",
       "      <th>LATE_AIRCRAFT_DELAY</th>\n",
       "      <th>DELAY_CAUSE</th>\n",
       "    </tr>\n",
       "  </thead>\n",
       "  <tbody>\n",
       "    <tr>\n",
       "      <th>0</th>\n",
       "      <td>0</td>\n",
       "      <td>1</td>\n",
       "      <td>1</td>\n",
       "      <td>3</td>\n",
       "      <td>WN</td>\n",
       "      <td>ONT</td>\n",
       "      <td>Ontario, CA</td>\n",
       "      <td>SFO</td>\n",
       "      <td>San Francisco, CA</td>\n",
       "      <td>1810.0</td>\n",
       "      <td>...</td>\n",
       "      <td>4.0</td>\n",
       "      <td>122.0</td>\n",
       "      <td>74.0</td>\n",
       "      <td>363.0</td>\n",
       "      <td>8.0</td>\n",
       "      <td>0.0</td>\n",
       "      <td>27.0</td>\n",
       "      <td>0.0</td>\n",
       "      <td>33.0</td>\n",
       "      <td>LAD</td>\n",
       "    </tr>\n",
       "    <tr>\n",
       "      <th>1</th>\n",
       "      <td>7</td>\n",
       "      <td>1</td>\n",
       "      <td>1</td>\n",
       "      <td>3</td>\n",
       "      <td>WN</td>\n",
       "      <td>ONT</td>\n",
       "      <td>Ontario, CA</td>\n",
       "      <td>SMF</td>\n",
       "      <td>Sacramento, CA</td>\n",
       "      <td>1505.0</td>\n",
       "      <td>...</td>\n",
       "      <td>3.0</td>\n",
       "      <td>73.0</td>\n",
       "      <td>66.0</td>\n",
       "      <td>390.0</td>\n",
       "      <td>0.0</td>\n",
       "      <td>0.0</td>\n",
       "      <td>0.0</td>\n",
       "      <td>7.0</td>\n",
       "      <td>40.0</td>\n",
       "      <td>LAD</td>\n",
       "    </tr>\n",
       "    <tr>\n",
       "      <th>2</th>\n",
       "      <td>14</td>\n",
       "      <td>1</td>\n",
       "      <td>1</td>\n",
       "      <td>3</td>\n",
       "      <td>WN</td>\n",
       "      <td>ORF</td>\n",
       "      <td>Norfolk, VA</td>\n",
       "      <td>BWI</td>\n",
       "      <td>Baltimore, MD</td>\n",
       "      <td>1130.0</td>\n",
       "      <td>...</td>\n",
       "      <td>2.0</td>\n",
       "      <td>47.0</td>\n",
       "      <td>36.0</td>\n",
       "      <td>159.0</td>\n",
       "      <td>6.0</td>\n",
       "      <td>0.0</td>\n",
       "      <td>0.0</td>\n",
       "      <td>0.0</td>\n",
       "      <td>36.0</td>\n",
       "      <td>LAD</td>\n",
       "    </tr>\n",
       "    <tr>\n",
       "      <th>3</th>\n",
       "      <td>24</td>\n",
       "      <td>1</td>\n",
       "      <td>1</td>\n",
       "      <td>3</td>\n",
       "      <td>WN</td>\n",
       "      <td>PBI</td>\n",
       "      <td>West Palm Beach/Palm Beach, FL</td>\n",
       "      <td>ISP</td>\n",
       "      <td>Islip, NY</td>\n",
       "      <td>755.0</td>\n",
       "      <td>...</td>\n",
       "      <td>11.0</td>\n",
       "      <td>152.0</td>\n",
       "      <td>139.0</td>\n",
       "      <td>1052.0</td>\n",
       "      <td>179.0</td>\n",
       "      <td>0.0</td>\n",
       "      <td>0.0</td>\n",
       "      <td>0.0</td>\n",
       "      <td>0.0</td>\n",
       "      <td>CC</td>\n",
       "    </tr>\n",
       "    <tr>\n",
       "      <th>4</th>\n",
       "      <td>29</td>\n",
       "      <td>1</td>\n",
       "      <td>1</td>\n",
       "      <td>3</td>\n",
       "      <td>WN</td>\n",
       "      <td>PDX</td>\n",
       "      <td>Portland, OR</td>\n",
       "      <td>DEN</td>\n",
       "      <td>Denver, CO</td>\n",
       "      <td>1310.0</td>\n",
       "      <td>...</td>\n",
       "      <td>1.0</td>\n",
       "      <td>140.0</td>\n",
       "      <td>116.0</td>\n",
       "      <td>991.0</td>\n",
       "      <td>28.0</td>\n",
       "      <td>0.0</td>\n",
       "      <td>0.0</td>\n",
       "      <td>0.0</td>\n",
       "      <td>0.0</td>\n",
       "      <td>CC</td>\n",
       "    </tr>\n",
       "  </tbody>\n",
       "</table>\n",
       "<p>5 rows × 28 columns</p>\n",
       "</div>"
      ],
      "text/plain": [
       "   index  MONTH  DAY_OF_MONTH  DAY_OF_WEEK MKT_UNIQUE_CARRIER ORIGIN  \\\n",
       "0      0      1             1            3                 WN    ONT   \n",
       "1      7      1             1            3                 WN    ONT   \n",
       "2     14      1             1            3                 WN    ORF   \n",
       "3     24      1             1            3                 WN    PBI   \n",
       "4     29      1             1            3                 WN    PDX   \n",
       "\n",
       "                 ORIGIN_CITY_NAME DEST     DEST_CITY_NAME  CRS_DEP_TIME  ...  \\\n",
       "0                     Ontario, CA  SFO  San Francisco, CA        1810.0  ...   \n",
       "1                     Ontario, CA  SMF     Sacramento, CA        1505.0  ...   \n",
       "2                     Norfolk, VA  BWI      Baltimore, MD        1130.0  ...   \n",
       "3  West Palm Beach/Palm Beach, FL  ISP          Islip, NY         755.0  ...   \n",
       "4                    Portland, OR  DEN         Denver, CO        1310.0  ...   \n",
       "\n",
       "   ARR_DELAY_GROUP  ACTUAL_ELAPSED_TIME  AIR_TIME  DISTANCE  CARRIER_DELAY  \\\n",
       "0              4.0                122.0      74.0     363.0            8.0   \n",
       "1              3.0                 73.0      66.0     390.0            0.0   \n",
       "2              2.0                 47.0      36.0     159.0            6.0   \n",
       "3             11.0                152.0     139.0    1052.0          179.0   \n",
       "4              1.0                140.0     116.0     991.0           28.0   \n",
       "\n",
       "   WEATHER_DELAY  NAS_DELAY  SECURITY_DELAY  LATE_AIRCRAFT_DELAY  DELAY_CAUSE  \n",
       "0            0.0       27.0             0.0                 33.0          LAD  \n",
       "1            0.0        0.0             7.0                 40.0          LAD  \n",
       "2            0.0        0.0             0.0                 36.0          LAD  \n",
       "3            0.0        0.0             0.0                  0.0           CC  \n",
       "4            0.0        0.0             0.0                  0.0           CC  \n",
       "\n",
       "[5 rows x 28 columns]"
      ]
     },
     "execution_count": 2,
     "metadata": {},
     "output_type": "execute_result"
    }
   ],
   "source": [
    "# Load dataset\n",
    "\n",
    "FlightsData = pd.read_csv(\"cleaned_FL_data.csv\",index_col=0,  dtype={\"MONTH\": np.int8,\"DAY_OF_MONTH\": np.int8,\"DAY_OF_WEEK\": np.int8,\"MKT_UNIQUE_CARRIER\": \"string\",\n",
    "                                            \"ORIGIN\": \"string\",\"ORIGIN_CITY_NAME\": \"string\",\"DEST\": \"string\",\n",
    "                                           \"DEST_CITY_NAME\": \"string\",\"CRS_DEP_TIME\": np.float64,\"DEP_DELAY\": np.float64,\n",
    "                                            \"TAXI_OUT\": np.float64,\"WHEELS_OFF\": np.float64,\"WHEELS_ON\": np.float64,\n",
    "                                           \"TAXI_IN\": np.float64,\"CRS_ARR_TIME\": np.float64,\"ARR_DELAY\": np.float64,\n",
    "                                           \"ACTUAL_ELAPSED_TIME\": np.float64,\"CRS_ELAPSED_TIME\": np.float64,\"AIR_TIME\": np.float64,\n",
    "                                           \"DISTANCE\": np.float64,\"CARRIER_DELAY\": np.float64,\"WEATHER_DELAY\": np.float64,\n",
    "                                           \"NAS_DELAY\": np.float64,\"SECURITY_DELAY\": np.float64,\"LATE_AIRCRAFT_DELAY\": np.float64,\n",
    "                                          \"DELAY_CAUSE\": \"string\"})\n",
    "# Show a preview of the dataset\n",
    "\n",
    "FlightsData.head()"
   ]
  },
  {
   "cell_type": "markdown",
   "id": "sophisticated-ozone",
   "metadata": {},
   "source": [
    "One important thing to notice is that the data is organized by month (_MONTH_), and day of the month(_DAY_OF_MONTH_). So its a good idea to shuffle the data in order to get a random organization. This step its important to try to get a more evenly distributed group of flights when dividing the dataset into the testing and training groups. The code below uses **sklearn** to shuffle the data."
   ]
  },
  {
   "cell_type": "code",
   "execution_count": 3,
   "id": "concrete-karaoke",
   "metadata": {},
   "outputs": [
    {
     "data": {
      "text/html": [
       "<div>\n",
       "<style scoped>\n",
       "    .dataframe tbody tr th:only-of-type {\n",
       "        vertical-align: middle;\n",
       "    }\n",
       "\n",
       "    .dataframe tbody tr th {\n",
       "        vertical-align: top;\n",
       "    }\n",
       "\n",
       "    .dataframe thead th {\n",
       "        text-align: right;\n",
       "    }\n",
       "</style>\n",
       "<table border=\"1\" class=\"dataframe\">\n",
       "  <thead>\n",
       "    <tr style=\"text-align: right;\">\n",
       "      <th></th>\n",
       "      <th>index</th>\n",
       "      <th>MONTH</th>\n",
       "      <th>DAY_OF_MONTH</th>\n",
       "      <th>DAY_OF_WEEK</th>\n",
       "      <th>MKT_UNIQUE_CARRIER</th>\n",
       "      <th>ORIGIN</th>\n",
       "      <th>ORIGIN_CITY_NAME</th>\n",
       "      <th>DEST</th>\n",
       "      <th>DEST_CITY_NAME</th>\n",
       "      <th>CRS_DEP_TIME</th>\n",
       "      <th>...</th>\n",
       "      <th>ARR_DELAY_GROUP</th>\n",
       "      <th>ACTUAL_ELAPSED_TIME</th>\n",
       "      <th>AIR_TIME</th>\n",
       "      <th>DISTANCE</th>\n",
       "      <th>CARRIER_DELAY</th>\n",
       "      <th>WEATHER_DELAY</th>\n",
       "      <th>NAS_DELAY</th>\n",
       "      <th>SECURITY_DELAY</th>\n",
       "      <th>LATE_AIRCRAFT_DELAY</th>\n",
       "      <th>DELAY_CAUSE</th>\n",
       "    </tr>\n",
       "  </thead>\n",
       "  <tbody>\n",
       "    <tr>\n",
       "      <th>9752</th>\n",
       "      <td>78145</td>\n",
       "      <td>1</td>\n",
       "      <td>19</td>\n",
       "      <td>7</td>\n",
       "      <td>NK</td>\n",
       "      <td>LAS</td>\n",
       "      <td>Las Vegas, NV</td>\n",
       "      <td>MCI</td>\n",
       "      <td>Kansas City, MO</td>\n",
       "      <td>940.0</td>\n",
       "      <td>...</td>\n",
       "      <td>1.0</td>\n",
       "      <td>156.0</td>\n",
       "      <td>133.0</td>\n",
       "      <td>1139.0</td>\n",
       "      <td>6.0</td>\n",
       "      <td>0.0</td>\n",
       "      <td>1.0</td>\n",
       "      <td>0.0</td>\n",
       "      <td>18.0</td>\n",
       "      <td>LAD</td>\n",
       "    </tr>\n",
       "    <tr>\n",
       "      <th>181725</th>\n",
       "      <td>1684871</td>\n",
       "      <td>3</td>\n",
       "      <td>1</td>\n",
       "      <td>7</td>\n",
       "      <td>DL</td>\n",
       "      <td>SLC</td>\n",
       "      <td>Salt Lake City, UT</td>\n",
       "      <td>DFW</td>\n",
       "      <td>Dallas/Fort Worth, TX</td>\n",
       "      <td>1400.0</td>\n",
       "      <td>...</td>\n",
       "      <td>1.0</td>\n",
       "      <td>168.0</td>\n",
       "      <td>120.0</td>\n",
       "      <td>989.0</td>\n",
       "      <td>14.0</td>\n",
       "      <td>0.0</td>\n",
       "      <td>12.0</td>\n",
       "      <td>0.0</td>\n",
       "      <td>0.0</td>\n",
       "      <td>CC</td>\n",
       "    </tr>\n",
       "    <tr>\n",
       "      <th>116147</th>\n",
       "      <td>957382</td>\n",
       "      <td>2</td>\n",
       "      <td>7</td>\n",
       "      <td>5</td>\n",
       "      <td>DL</td>\n",
       "      <td>SYR</td>\n",
       "      <td>Syracuse, NY</td>\n",
       "      <td>ATL</td>\n",
       "      <td>Atlanta, GA</td>\n",
       "      <td>1206.0</td>\n",
       "      <td>...</td>\n",
       "      <td>4.0</td>\n",
       "      <td>179.0</td>\n",
       "      <td>122.0</td>\n",
       "      <td>794.0</td>\n",
       "      <td>18.0</td>\n",
       "      <td>0.0</td>\n",
       "      <td>25.0</td>\n",
       "      <td>0.0</td>\n",
       "      <td>21.0</td>\n",
       "      <td>ND</td>\n",
       "    </tr>\n",
       "    <tr>\n",
       "      <th>130958</th>\n",
       "      <td>1080872</td>\n",
       "      <td>2</td>\n",
       "      <td>3</td>\n",
       "      <td>1</td>\n",
       "      <td>AA</td>\n",
       "      <td>SBP</td>\n",
       "      <td>San Luis Obispo, CA</td>\n",
       "      <td>PHX</td>\n",
       "      <td>Phoenix, AZ</td>\n",
       "      <td>1631.0</td>\n",
       "      <td>...</td>\n",
       "      <td>10.0</td>\n",
       "      <td>93.0</td>\n",
       "      <td>74.0</td>\n",
       "      <td>509.0</td>\n",
       "      <td>150.0</td>\n",
       "      <td>0.0</td>\n",
       "      <td>0.0</td>\n",
       "      <td>0.0</td>\n",
       "      <td>0.0</td>\n",
       "      <td>CC</td>\n",
       "    </tr>\n",
       "    <tr>\n",
       "      <th>145836</th>\n",
       "      <td>1213401</td>\n",
       "      <td>2</td>\n",
       "      <td>18</td>\n",
       "      <td>2</td>\n",
       "      <td>NK</td>\n",
       "      <td>ATL</td>\n",
       "      <td>Atlanta, GA</td>\n",
       "      <td>TPA</td>\n",
       "      <td>Tampa, FL</td>\n",
       "      <td>1201.0</td>\n",
       "      <td>...</td>\n",
       "      <td>1.0</td>\n",
       "      <td>78.0</td>\n",
       "      <td>57.0</td>\n",
       "      <td>406.0</td>\n",
       "      <td>0.0</td>\n",
       "      <td>0.0</td>\n",
       "      <td>25.0</td>\n",
       "      <td>0.0</td>\n",
       "      <td>0.0</td>\n",
       "      <td>ND</td>\n",
       "    </tr>\n",
       "  </tbody>\n",
       "</table>\n",
       "<p>5 rows × 28 columns</p>\n",
       "</div>"
      ],
      "text/plain": [
       "          index  MONTH  DAY_OF_MONTH  DAY_OF_WEEK MKT_UNIQUE_CARRIER ORIGIN  \\\n",
       "9752      78145      1            19            7                 NK    LAS   \n",
       "181725  1684871      3             1            7                 DL    SLC   \n",
       "116147   957382      2             7            5                 DL    SYR   \n",
       "130958  1080872      2             3            1                 AA    SBP   \n",
       "145836  1213401      2            18            2                 NK    ATL   \n",
       "\n",
       "           ORIGIN_CITY_NAME DEST         DEST_CITY_NAME  CRS_DEP_TIME  ...  \\\n",
       "9752          Las Vegas, NV  MCI        Kansas City, MO         940.0  ...   \n",
       "181725   Salt Lake City, UT  DFW  Dallas/Fort Worth, TX        1400.0  ...   \n",
       "116147         Syracuse, NY  ATL            Atlanta, GA        1206.0  ...   \n",
       "130958  San Luis Obispo, CA  PHX            Phoenix, AZ        1631.0  ...   \n",
       "145836          Atlanta, GA  TPA              Tampa, FL        1201.0  ...   \n",
       "\n",
       "        ARR_DELAY_GROUP  ACTUAL_ELAPSED_TIME  AIR_TIME  DISTANCE  \\\n",
       "9752                1.0                156.0     133.0    1139.0   \n",
       "181725              1.0                168.0     120.0     989.0   \n",
       "116147              4.0                179.0     122.0     794.0   \n",
       "130958             10.0                 93.0      74.0     509.0   \n",
       "145836              1.0                 78.0      57.0     406.0   \n",
       "\n",
       "        CARRIER_DELAY  WEATHER_DELAY  NAS_DELAY  SECURITY_DELAY  \\\n",
       "9752              6.0            0.0        1.0             0.0   \n",
       "181725           14.0            0.0       12.0             0.0   \n",
       "116147           18.0            0.0       25.0             0.0   \n",
       "130958          150.0            0.0        0.0             0.0   \n",
       "145836            0.0            0.0       25.0             0.0   \n",
       "\n",
       "        LATE_AIRCRAFT_DELAY  DELAY_CAUSE  \n",
       "9752                   18.0          LAD  \n",
       "181725                  0.0           CC  \n",
       "116147                 21.0           ND  \n",
       "130958                  0.0           CC  \n",
       "145836                  0.0           ND  \n",
       "\n",
       "[5 rows x 28 columns]"
      ]
     },
     "execution_count": 3,
     "metadata": {},
     "output_type": "execute_result"
    }
   ],
   "source": [
    "# The documentation of this function can be found here: https://scikit-learn.org/stable/modules/generated/sklearn.utils.shuffle.html\n",
    "\n",
    "# Import the shuffle utility\n",
    "from sklearn.utils import shuffle\n",
    "\n",
    "FlightsData = shuffle(FlightsData, random_state=27) # random_state is a the seed of the random number generation for\n",
    "# organizing the data.\n",
    "\n",
    "# Preview of data\n",
    "FlightsData.head()"
   ]
  },
  {
   "cell_type": "markdown",
   "id": "otherwise-eclipse",
   "metadata": {},
   "source": [
    "As it can be see above the dataset was succesfully shuffled.\n",
    "\n",
    "**Note:** The last column of the dataset where the type of delay is located. So its necessary to separted it"
   ]
  },
  {
   "cell_type": "markdown",
   "id": "digital-advocacy",
   "metadata": {},
   "source": [
    "One of the issues discovered is the fact that the Logistic Regression Model does not take string inputs. So an additional preprocessong must be done. Based on the results of the Part I of this investigation. The string columns have a large amount of classes that we could convert to numbers."
   ]
  },
  {
   "cell_type": "code",
   "execution_count": 4,
   "id": "interesting-marketplace",
   "metadata": {},
   "outputs": [
    {
     "data": {
      "text/html": [
       "<div>\n",
       "<style scoped>\n",
       "    .dataframe tbody tr th:only-of-type {\n",
       "        vertical-align: middle;\n",
       "    }\n",
       "\n",
       "    .dataframe tbody tr th {\n",
       "        vertical-align: top;\n",
       "    }\n",
       "\n",
       "    .dataframe thead th {\n",
       "        text-align: right;\n",
       "    }\n",
       "</style>\n",
       "<table border=\"1\" class=\"dataframe\">\n",
       "  <thead>\n",
       "    <tr style=\"text-align: right;\">\n",
       "      <th></th>\n",
       "      <th>ORIGIN</th>\n",
       "      <th>MKT_UNIQUE_CARRIER</th>\n",
       "      <th>ORIGIN_CITY_NAME</th>\n",
       "      <th>DEST</th>\n",
       "      <th>DEST_CITY_NAME</th>\n",
       "      <th>DELAY_CAUSE</th>\n",
       "    </tr>\n",
       "  </thead>\n",
       "  <tbody>\n",
       "    <tr>\n",
       "      <th>count</th>\n",
       "      <td>227679</td>\n",
       "      <td>227679</td>\n",
       "      <td>227679</td>\n",
       "      <td>227679</td>\n",
       "      <td>227679</td>\n",
       "      <td>227679</td>\n",
       "    </tr>\n",
       "    <tr>\n",
       "      <th>unique</th>\n",
       "      <td>280</td>\n",
       "      <td>10</td>\n",
       "      <td>274</td>\n",
       "      <td>282</td>\n",
       "      <td>276</td>\n",
       "      <td>5</td>\n",
       "    </tr>\n",
       "    <tr>\n",
       "      <th>top</th>\n",
       "      <td>ORD</td>\n",
       "      <td>AA</td>\n",
       "      <td>Chicago, IL</td>\n",
       "      <td>ORD</td>\n",
       "      <td>Chicago, IL</td>\n",
       "      <td>CC</td>\n",
       "    </tr>\n",
       "    <tr>\n",
       "      <th>freq</th>\n",
       "      <td>12815</td>\n",
       "      <td>70836</td>\n",
       "      <td>14848</td>\n",
       "      <td>11013</td>\n",
       "      <td>12512</td>\n",
       "      <td>87301</td>\n",
       "    </tr>\n",
       "  </tbody>\n",
       "</table>\n",
       "</div>"
      ],
      "text/plain": [
       "        ORIGIN MKT_UNIQUE_CARRIER ORIGIN_CITY_NAME    DEST DEST_CITY_NAME  \\\n",
       "count   227679             227679           227679  227679         227679   \n",
       "unique     280                 10              274     282            276   \n",
       "top        ORD                 AA      Chicago, IL     ORD    Chicago, IL   \n",
       "freq     12815              70836            14848   11013          12512   \n",
       "\n",
       "       DELAY_CAUSE  \n",
       "count       227679  \n",
       "unique           5  \n",
       "top             CC  \n",
       "freq         87301  "
      ]
     },
     "execution_count": 4,
     "metadata": {},
     "output_type": "execute_result"
    }
   ],
   "source": [
    "FlightsData[['ORIGIN','MKT_UNIQUE_CARRIER','ORIGIN_CITY_NAME','DEST','DEST_CITY_NAME','DELAY_CAUSE']].describe()"
   ]
  },
  {
   "cell_type": "markdown",
   "id": "touched-cigarette",
   "metadata": {},
   "source": [
    "For the Delay Type:\n",
    "\n",
    "|     Column Value    \t| Column Value \"string\" \t| Column Value Numeric \t|\n",
    "|:-------------------:\t|:---------------------:\t|:--------------------:\t|\n",
    "|    Carrier Delay    \t|           CC          \t|           0          \t|\n",
    "|    Weather Delay    \t|           WD          \t|           1          \t|\n",
    "|      NAS Delay      \t|           ND          \t|           2          \t|\n",
    "|    Security Delay   \t|           SD          \t|           3          \t|\n",
    "| Late Aircraft Delay \t|          LAD          \t|           4          \t|\n",
    "\n",
    "For the Airlines: \n",
    "\n",
    "|    Column Value   \t| Column Value \"string\" \t| Column Value Numeric \t|\n",
    "|:-----------------:\t|:---------------------:\t|:--------------------:\t|\n",
    "| American Airlines \t|           AA          \t|           0          \t|\n",
    "|  Alaska Airlines  \t|           AS          \t|           1          \t|\n",
    "|      JetBlue      \t|           B6          \t|           2          \t|\n",
    "|   Delta Airlines  \t|           DL          \t|           3          \t|\n",
    "| Frontier Airlines \t|           F9          \t|           4          \t|\n",
    "|   Allegiant Air   \t|           G4          \t|           5          \t|\n",
    "| Hawaiian Airlines \t|           HA          \t|           6          \t|\n",
    "|  Spirit Airlines  \t|           NK          \t|           7          \t|\n",
    "|  United Airlines  \t|           UA          \t|           8          \t|\n",
    "|     Southwest     \t|           WN          \t|           9          \t|\n"
   ]
  },
  {
   "cell_type": "code",
   "execution_count": 5,
   "id": "transsexual-reality",
   "metadata": {},
   "outputs": [],
   "source": [
    "# Define dictionaries \n",
    "DC_dict = {'CC':0,'WD':1,'ND':2,'SD':3,'LAD':4}\n",
    "MUC_dict = {'AA':0,'AS':1,'B6':2,'DL':3,'F9':4,'G4':5,'HA':6,'NK':7,'UA':8,'WN':9,}\n",
    "\n",
    "# Replace delay cause and airline values to numbers\n",
    "FlightsData[['DELAY_CAUSE']] = [DC_dict[item] for item in FlightsData['DELAY_CAUSE']]\n",
    "FlightsData[['MKT_UNIQUE_CARRIER']] = [MUC_dict[item] for item in FlightsData['MKT_UNIQUE_CARRIER']]"
   ]
  },
  {
   "cell_type": "markdown",
   "id": "oriented-messenger",
   "metadata": {},
   "source": [
    "The method above could be apply to columns with a small number of unique classes. However, for the ORIGIN, ORIGIN_CITY_NAME, DEST , and DEST_CITY_NAME columns it is not feasable to do it manually. Due to that the methodology described in the document named [Python | Convert two lists into a dictionary](https://www.geeksforgeeks.org/python-convert-two-lists-into-a-dictionary/) would be used."
   ]
  },
  {
   "cell_type": "code",
   "execution_count": 6,
   "id": "japanese-boston",
   "metadata": {},
   "outputs": [
    {
     "data": {
      "text/html": [
       "<div>\n",
       "<style scoped>\n",
       "    .dataframe tbody tr th:only-of-type {\n",
       "        vertical-align: middle;\n",
       "    }\n",
       "\n",
       "    .dataframe tbody tr th {\n",
       "        vertical-align: top;\n",
       "    }\n",
       "\n",
       "    .dataframe thead th {\n",
       "        text-align: right;\n",
       "    }\n",
       "</style>\n",
       "<table border=\"1\" class=\"dataframe\">\n",
       "  <thead>\n",
       "    <tr style=\"text-align: right;\">\n",
       "      <th></th>\n",
       "      <th>ORIGIN</th>\n",
       "      <th>MKT_UNIQUE_CARRIER</th>\n",
       "      <th>ORIGIN_CITY_NAME</th>\n",
       "      <th>DEST</th>\n",
       "      <th>DEST_CITY_NAME</th>\n",
       "      <th>DELAY_CAUSE</th>\n",
       "    </tr>\n",
       "  </thead>\n",
       "  <tbody>\n",
       "    <tr>\n",
       "      <th>count</th>\n",
       "      <td>227679.000000</td>\n",
       "      <td>227679.000000</td>\n",
       "      <td>227679.000000</td>\n",
       "      <td>227679.000000</td>\n",
       "      <td>227679.000000</td>\n",
       "      <td>227679.000000</td>\n",
       "    </tr>\n",
       "    <tr>\n",
       "      <th>mean</th>\n",
       "      <td>129.381748</td>\n",
       "      <td>3.877152</td>\n",
       "      <td>126.019330</td>\n",
       "      <td>132.434274</td>\n",
       "      <td>130.754663</td>\n",
       "      <td>1.950334</td>\n",
       "    </tr>\n",
       "    <tr>\n",
       "      <th>std</th>\n",
       "      <td>76.919137</td>\n",
       "      <td>3.539755</td>\n",
       "      <td>78.144612</td>\n",
       "      <td>77.615793</td>\n",
       "      <td>78.837391</td>\n",
       "      <td>1.757194</td>\n",
       "    </tr>\n",
       "    <tr>\n",
       "      <th>min</th>\n",
       "      <td>0.000000</td>\n",
       "      <td>0.000000</td>\n",
       "      <td>0.000000</td>\n",
       "      <td>0.000000</td>\n",
       "      <td>0.000000</td>\n",
       "      <td>0.000000</td>\n",
       "    </tr>\n",
       "    <tr>\n",
       "      <th>25%</th>\n",
       "      <td>62.000000</td>\n",
       "      <td>0.000000</td>\n",
       "      <td>49.000000</td>\n",
       "      <td>64.000000</td>\n",
       "      <td>59.000000</td>\n",
       "      <td>0.000000</td>\n",
       "    </tr>\n",
       "    <tr>\n",
       "      <th>50%</th>\n",
       "      <td>130.000000</td>\n",
       "      <td>3.000000</td>\n",
       "      <td>125.000000</td>\n",
       "      <td>137.000000</td>\n",
       "      <td>138.000000</td>\n",
       "      <td>2.000000</td>\n",
       "    </tr>\n",
       "    <tr>\n",
       "      <th>75%</th>\n",
       "      <td>191.000000</td>\n",
       "      <td>8.000000</td>\n",
       "      <td>194.000000</td>\n",
       "      <td>199.000000</td>\n",
       "      <td>198.000000</td>\n",
       "      <td>4.000000</td>\n",
       "    </tr>\n",
       "    <tr>\n",
       "      <th>max</th>\n",
       "      <td>279.000000</td>\n",
       "      <td>9.000000</td>\n",
       "      <td>273.000000</td>\n",
       "      <td>281.000000</td>\n",
       "      <td>275.000000</td>\n",
       "      <td>4.000000</td>\n",
       "    </tr>\n",
       "  </tbody>\n",
       "</table>\n",
       "</div>"
      ],
      "text/plain": [
       "              ORIGIN  MKT_UNIQUE_CARRIER  ORIGIN_CITY_NAME           DEST  \\\n",
       "count  227679.000000       227679.000000     227679.000000  227679.000000   \n",
       "mean      129.381748            3.877152        126.019330     132.434274   \n",
       "std        76.919137            3.539755         78.144612      77.615793   \n",
       "min         0.000000            0.000000          0.000000       0.000000   \n",
       "25%        62.000000            0.000000         49.000000      64.000000   \n",
       "50%       130.000000            3.000000        125.000000     137.000000   \n",
       "75%       191.000000            8.000000        194.000000     199.000000   \n",
       "max       279.000000            9.000000        273.000000     281.000000   \n",
       "\n",
       "       DEST_CITY_NAME    DELAY_CAUSE  \n",
       "count   227679.000000  227679.000000  \n",
       "mean       130.754663       1.950334  \n",
       "std         78.837391       1.757194  \n",
       "min          0.000000       0.000000  \n",
       "25%         59.000000       0.000000  \n",
       "50%        138.000000       2.000000  \n",
       "75%        198.000000       4.000000  \n",
       "max        275.000000       4.000000  "
      ]
     },
     "execution_count": 6,
     "metadata": {},
     "output_type": "execute_result"
    }
   ],
   "source": [
    "# Define Lists of Classes for each column\n",
    "\n",
    "origin_classes = FlightsData[['ORIGIN']].value_counts().index.levels[0]\n",
    "origincitynames_classes = FlightsData[['ORIGIN_CITY_NAME']].value_counts().index.levels[0]\n",
    "dest_classes = FlightsData[['DEST']].value_counts().index.levels[0]\n",
    "destcitynames_classes = FlightsData[['DEST_CITY_NAME']].value_counts().index.levels[0]\n",
    "\n",
    "# Create dictionaries indexes lists based on the lenght of the list of classes above.\n",
    "\n",
    "origin_classes_idxs = list(range(0,len(origin_classes)))\n",
    "origincitynames_classes_idxs = list(range(0,len(origincitynames_classes)))\n",
    "dest_classes_idxs = list(range(0,len(dest_classes)))\n",
    "destcitynames_classes_idxs = list(range(0,len(destcitynames_classes)))\n",
    "\n",
    "# build dictionaries\n",
    "# ORIGIN\n",
    "origin_dict = {}\n",
    "for key in origin_classes: \n",
    "    for value in origin_classes_idxs: \n",
    "        origin_dict[key] = value \n",
    "        origin_classes_idxs.remove(value) \n",
    "        break\n",
    "# ORIGIN_CITY_NAME\n",
    "origincitynames_dict = {}\n",
    "for key in origincitynames_classes: \n",
    "    for value in origincitynames_classes_idxs: \n",
    "        origincitynames_dict[key] = value \n",
    "        origincitynames_classes_idxs.remove(value) \n",
    "        break\n",
    "# DEST        \n",
    "dest_dict = {}\n",
    "for key in dest_classes: \n",
    "    for value in dest_classes_idxs: \n",
    "        dest_dict[key] = value \n",
    "        dest_classes_idxs.remove(value) \n",
    "        break\n",
    "# DEST_CITY_NAME        \n",
    "destcitynames_dict = {}\n",
    "for key in destcitynames_classes: \n",
    "    for value in destcitynames_classes_idxs: \n",
    "        destcitynames_dict[key] = value \n",
    "        destcitynames_classes_idxs.remove(value) \n",
    "        break\n",
    "\n",
    "# Replace delay cause values to numbers\n",
    "FlightsData['ORIGIN'] = [origin_dict[item] for item in FlightsData['ORIGIN']]\n",
    "FlightsData['ORIGIN_CITY_NAME'] = [origincitynames_dict[item] for item in FlightsData['ORIGIN_CITY_NAME']]\n",
    "FlightsData['DEST'] = [dest_dict[item] for item in FlightsData['DEST']]\n",
    "FlightsData['DEST_CITY_NAME'] = [destcitynames_dict[item] for item in FlightsData['DEST_CITY_NAME']]\n",
    "\n",
    "# Preview the data\n",
    "FlightsData[['ORIGIN','MKT_UNIQUE_CARRIER','ORIGIN_CITY_NAME','DEST','DEST_CITY_NAME','DELAY_CAUSE']].describe()"
   ]
  },
  {
   "cell_type": "code",
   "execution_count": 7,
   "id": "tropical-orbit",
   "metadata": {},
   "outputs": [
    {
     "name": "stdout",
     "output_type": "stream",
     "text": [
      "Delay results size: (227679,)\n",
      "Delay Parameters size: (227679, 27)\n"
     ]
    }
   ],
   "source": [
    "# Get Results column\n",
    "delay_results = FlightsData['DELAY_CAUSE']\n",
    "# Get Parameters\n",
    "delay_parameters = FlightsData.drop(columns = 'DELAY_CAUSE')\n",
    "\n",
    "# Print Data Frame shape\n",
    "\n",
    "print(\"Delay results size: \" + str(delay_results.shape))\n",
    "print(\"Delay Parameters size: \" + str(delay_parameters.shape))"
   ]
  },
  {
   "cell_type": "markdown",
   "id": "fallen-driver",
   "metadata": {},
   "source": [
    "As it can be seen above, the results and parameters have the right shape."
   ]
  },
  {
   "cell_type": "markdown",
   "id": "forced-option",
   "metadata": {},
   "source": [
    "## Logistic Regression in Python\n",
    "\n",
    "The logistic regression is the first type of classification algorithm to be tested. The online document named [Logistic Regression in Python](https://realpython.com/logistic-regression-python/) by Mirk Stojiljkovic was used as reference.\n",
    "\n",
    "In the section below the sklearn logistic regression model is imported and also some metric utilities like a confussion matrix, and a classification report. The classification report documentation can be found [here](https://scikit-learn.org/stable/modules/generated/sklearn.metrics.classification_report.html). This report provides all the information below for each class. This would be very useful to avoid having to manually calculate this metrics.\n",
    "\n",
    "- **Precision**.\n",
    "- **Recall**.\n",
    "- **F1 Score**.\n",
    "\n",
    "The code below is to create the model."
   ]
  },
  {
   "cell_type": "code",
   "execution_count": 8,
   "id": "comparative-first",
   "metadata": {},
   "outputs": [],
   "source": [
    "# import Logistic Regression Model\n",
    "from sklearn.linear_model import LogisticRegression\n",
    "\n",
    "# Import Classification Report and Confussion Matrix\n",
    "from sklearn.metrics import classification_report, confusion_matrix\n",
    "\n",
    "# Create Logistic Regression Model\n",
    "LR_model =  LogisticRegression(solver='liblinear', random_state=0, multi_class = 'auto',max_iter=200)\n",
    "\n",
    "# Also the muti_class option was selected to ovr based on the fact that there is a binary fit for each label.\n",
    "# this was choosen on the same document above."
   ]
  },
  {
   "cell_type": "markdown",
   "id": "welsh-toddler",
   "metadata": {},
   "source": [
    "It is imporant to separete the data in train and test data. It was decided to use the *train_test_split* utility from sklearn documented [here](https://realpython.com/train-test-split-python-data/)."
   ]
  },
  {
   "cell_type": "code",
   "execution_count": 9,
   "id": "proved-reputation",
   "metadata": {},
   "outputs": [],
   "source": [
    "# Import train_test_split utility\n",
    "\n",
    "from sklearn.model_selection import train_test_split\n",
    "\n",
    "# As it described here: https://realpython.com/train-test-split-python-data/ it is possible separate both input, \n",
    "# output data at the same time.\n",
    "\n",
    "delay_parameters_train, delay_parameters_test, delay_results_train, delay_results_test = train_test_split(\n",
    "    delay_parameters, delay_results, test_size = 0.2, random_state = 25) # Train 80%, Test 20%"
   ]
  },
  {
   "cell_type": "markdown",
   "id": "champion-antigua",
   "metadata": {},
   "source": [
    "Train the model. **Note:** This process could take a long time. Up to 5 minutes depending on your system resources."
   ]
  },
  {
   "cell_type": "code",
   "execution_count": 10,
   "id": "chemical-tractor",
   "metadata": {},
   "outputs": [
    {
     "data": {
      "text/plain": [
       "LogisticRegression(max_iter=200, random_state=0, solver='liblinear')"
      ]
     },
     "execution_count": 10,
     "metadata": {},
     "output_type": "execute_result"
    }
   ],
   "source": [
    "LR_model.fit(delay_parameters_train, delay_results_train)"
   ]
  },
  {
   "cell_type": "markdown",
   "id": "exciting-routine",
   "metadata": {},
   "source": [
    "Now that the model has been compiles the next step is to evaluate its performance for the model."
   ]
  },
  {
   "cell_type": "code",
   "execution_count": 11,
   "id": "interim-penalty",
   "metadata": {},
   "outputs": [
    {
     "name": "stdout",
     "output_type": "stream",
     "text": [
      "Training set score: 0.971\n",
      "Test set score: 0.969\n"
     ]
    }
   ],
   "source": [
    "print(\"Training set score: {:.3f}\".format(LR_model.score(delay_parameters_train, delay_results_train)))\n",
    "print(\"Test set score: {:.3f}\".format(LR_model.score(delay_parameters_test, delay_results_test)))"
   ]
  },
  {
   "cell_type": "markdown",
   "id": "optional-lawyer",
   "metadata": {},
   "source": [
    "Now we will evaluate the rest of the metrics, starting by the confusion matrix. For this we will use the sklearn confusion matrix imported at the beggining of this section."
   ]
  },
  {
   "cell_type": "code",
   "execution_count": 12,
   "id": "considered-chess",
   "metadata": {},
   "outputs": [
    {
     "name": "stdout",
     "output_type": "stream",
     "text": [
      "Confusion Matrix Logistic Regression\n",
      "[[9.88698944e-01 0.00000000e+00 6.25286829e-03 0.00000000e+00\n",
      "  5.04818724e-03]\n",
      " [4.16666667e-03 9.20833333e-01 4.27083333e-02 0.00000000e+00\n",
      "  3.22916667e-02]\n",
      " [2.90002257e-02 2.25682690e-04 9.22703679e-01 0.00000000e+00\n",
      "  4.80704130e-02]\n",
      " [2.75229358e-02 0.00000000e+00 1.74311927e-01 1.92660550e-01\n",
      "  6.05504587e-01]\n",
      " [2.55620752e-03 0.00000000e+00 1.33038982e-02 0.00000000e+00\n",
      "  9.84139894e-01]]\n"
     ]
    },
    {
     "data": {
      "image/png": "[encoded data removed]",
      "text/plain": [
       "<Figure size 720x720 with 2 Axes>"
      ]
     },
     "metadata": {
      "needs_background": "light"
     },
     "output_type": "display_data"
    }
   ],
   "source": [
    "# import multi label confusion matrix\n",
    "from sklearn.metrics import multilabel_confusion_matrix\n",
    "from sklearn.metrics import plot_confusion_matrix\n",
    "\n",
    "\n",
    "# Confusion Matrix\n",
    "disp, ax = plt.subplots(figsize=(10, 10))\n",
    "disp = plot_confusion_matrix(LR_model,delay_parameters_test, delay_results_test,labels = \n",
    "                             [0,1,2,3,4],cmap=plt.cm.Blues,ax=ax,normalize='true')\n",
    "\n",
    "# Plot confusion matrix\n",
    "title = \"Confusion Matrix Logistic Regression\"\n",
    "\n",
    "ax.set_title(title)\n",
    "x_ticks_labels = ['CC','WD','LD','SD','LAD']\n",
    "plt.xticks([0,1,2,3,4],x_ticks_labels)\n",
    "plt.yticks([0,1,2,3,4],x_ticks_labels)\n",
    "print(title)\n",
    "print(disp.confusion_matrix)\n",
    "\n",
    "plt.show()"
   ]
  },
  {
   "cell_type": "markdown",
   "id": "upset-trace",
   "metadata": {},
   "source": [
    "As it can be seen above the results are quite good. Unfortunately there were not a lot of elements from the SD class. Now we would compute the rest of the metrics."
   ]
  },
  {
   "cell_type": "code",
   "execution_count": 13,
   "id": "unlimited-wound",
   "metadata": {},
   "outputs": [
    {
     "name": "stdout",
     "output_type": "stream",
     "text": [
      "              precision    recall  f1-score   support\n",
      "\n",
      "          CC       0.98      0.99      0.99     17432\n",
      "          WD       1.00      0.92      0.96      1920\n",
      "          LD       0.95      0.92      0.94      8862\n",
      "          SD       1.00      0.19      0.32       109\n",
      "         LAD       0.96      0.98      0.97     17213\n",
      "\n",
      "    accuracy                           0.97     45536\n",
      "   macro avg       0.98      0.80      0.84     45536\n",
      "weighted avg       0.97      0.97      0.97     45536\n",
      "\n"
     ]
    }
   ],
   "source": [
    "from sklearn.metrics import classification_report\n",
    "\n",
    "# Class names\n",
    "\n",
    "delay_results_test_predicted = LR_model.predict(delay_parameters_test)\n",
    "\n",
    "class_names = ['CC','WD','LD','SD','LAD']\n",
    "print(classification_report(delay_results_test, delay_results_test_predicted, target_names=class_names))"
   ]
  },
  {
   "cell_type": "markdown",
   "id": "equipped-swimming",
   "metadata": {},
   "source": [
    "The results for most of the classes were over 90%, which means that the model was good at predicting delay causes. However, the LD class had a very little amount of samples so the result ended up with a low F1 score of only 32%.\n",
    "\n",
    "We will calculate the **Log Loss** now"
   ]
  },
  {
   "cell_type": "code",
   "execution_count": 14,
   "id": "descending-gothic",
   "metadata": {},
   "outputs": [
    {
     "name": "stdout",
     "output_type": "stream",
     "text": [
      "Log Loss: 1.609\n"
     ]
    }
   ],
   "source": [
    "# Import Log Loss\n",
    "\n",
    "from sklearn.metrics import log_loss\n",
    "\n",
    "# Calculate Predict Probability\n",
    "\n",
    "delay_results_test_prep = LR_model.predict_log_proba(delay_parameters_test) \n",
    "\n",
    "# This provides the probability of each flight belonging to one of the five classes.\n",
    "\n",
    "LogLoss = log_loss(delay_results_test, delay_results_test_prep)\n",
    "\n",
    "# Pring Results\n",
    "\n",
    "print(\"Log Loss: {:.3f}\".format((LogLoss)))"
   ]
  },
  {
   "cell_type": "markdown",
   "id": "printable-stockholm",
   "metadata": {},
   "source": [
    "**Summary of Results**\n",
    "\n",
    "|      Model Name     \t| Accuracy \t| Log Loss \t| F1-score \t| Precision \t| Recall \t|\n",
    "|:-------------------:\t|:--------:\t|:--------:\t|:--------:\t|:---------:\t|:------:\t|\n",
    "| Logistic Regression \t|   0.969  \t|   1.609  \t|   0.84   \t|    0.98   \t|  0.80  \t|\n",
    "\n",
    "\n",
    "## KNN for classification\n",
    "\n",
    "The K nearest neighbors algoritm is another classification model. In the section below we configure the model. However, since the K has a dirrect in accuracy we would perform a procedure similar to what was done in class to estimate which number of neighbor K has the best accuracy with the Test and Training data.\n",
    "\n",
    "**Note:** The process below could take up to 5 minutes."
   ]
  },
  {
   "cell_type": "code",
   "execution_count": 15,
   "id": "ranking-counter",
   "metadata": {},
   "outputs": [
    {
     "name": "stdout",
     "output_type": "stream",
     "text": [
      "Training set score: 1.000 -> K = 1\n",
      "Test set score: 0.503 -> K = 1\n",
      "Training set score: 0.756 -> K = 2\n",
      "Test set score: 0.478 -> K = 2\n",
      "Training set score: 0.726 -> K = 3\n",
      "Test set score: 0.511 -> K = 3\n",
      "Training set score: 0.688 -> K = 4\n",
      "Test set score: 0.509 -> K = 4\n",
      "Training set score: 0.666 -> K = 5\n",
      "Test set score: 0.510 -> K = 5\n",
      "Training set score: 0.648 -> K = 6\n",
      "Test set score: 0.515 -> K = 6\n",
      "Training set score: 0.638 -> K = 7\n",
      "Test set score: 0.515 -> K = 7\n",
      "Training set score: 0.626 -> K = 8\n",
      "Test set score: 0.517 -> K = 8\n",
      "Training set score: 0.618 -> K = 9\n",
      "Test set score: 0.519 -> K = 9\n",
      "Training set score: 0.613 -> K = 10\n",
      "Test set score: 0.519 -> K = 10\n"
     ]
    },
    {
     "data": {
      "text/plain": [
       "<matplotlib.legend.Legend at 0x7f9e1056fa30>"
      ]
     },
     "execution_count": 15,
     "metadata": {},
     "output_type": "execute_result"
    },
    {
     "data": {
      "image/png": "[encoded data removed]",
      "text/plain": [
       "<Figure size 432x288 with 1 Axes>"
      ]
     },
     "metadata": {
      "needs_background": "light"
     },
     "output_type": "display_data"
    }
   ],
   "source": [
    "# Import K Nearest Neighbors \n",
    "from sklearn.neighbors import KNeighborsClassifier\n",
    "\n",
    "# Setup Test and Train Data\n",
    "\n",
    "delay_parameters_train, delay_parameters_test, delay_results_train, delay_results_test = train_test_split(\n",
    "    delay_parameters, delay_results, test_size = 0.2, random_state = 25) # Train 80%, Test 20%\n",
    "\n",
    "# Train Model for multiple K values \n",
    "# This was adapted from the class example here: https://sites.google.com/view/mp6122-tec-1q21/class-2\n",
    "\n",
    "# Setup Arrays to keep accuracy data\n",
    "Train_Accuracy_KNN = []\n",
    "Test_Accuracy_KNN = []\n",
    "Log_Loss_KNN = []\n",
    "\n",
    "neighbors_settings = range(1, 11) # Test up to 10\n",
    "for n_neighbors in neighbors_settings:\n",
    "    # Setup Model with \"Ball Three Algorithm\"\n",
    "    \n",
    "    KNN_model = KNeighborsClassifier(n_neighbors=n_neighbors, algorithm='ball_tree', leaf_size = 30)\n",
    "    KNN_model.fit(delay_parameters_train, delay_results_train)\n",
    "    \n",
    "    # Pring Accuracy Results\n",
    "    \n",
    "    train_acc= KNN_model.score(delay_parameters_train, delay_results_train)\n",
    "    Train_Accuracy_KNN.append(train_acc)\n",
    "    \n",
    "    test_acc = KNN_model.score(delay_parameters_test, delay_results_test)\n",
    "    Test_Accuracy_KNN.append(test_acc)\n",
    "    \n",
    "    print(\"Training set score: {:.3f}\".format(train_acc) + \" -> K = \" + str(n_neighbors))\n",
    "    print(\"Test set score: {:.3f}\".format(test_acc)+ \" -> K = \" + str(n_neighbors))\n",
    "    \n",
    "    \n",
    "plt.plot(neighbors_settings, Train_Accuracy_KNN, label=\"training accuracy\")\n",
    "plt.plot(neighbors_settings, Test_Accuracy_KNN, label=\"test accuracy\")\n",
    "plt.ylabel(\"Accuracy\")\n",
    "plt.xlabel(\"n_neighbors\")\n",
    "plt.title(\"KNN with Ball Tree Algorithm\")\n",
    "plt.legend()"
   ]
  },
  {
   "cell_type": "markdown",
   "id": "cultural-israel",
   "metadata": {},
   "source": [
    "As it can bee seen above the use of \"ball tree\" algoritm was not very succesful. The _kd_tree_ algorithm would be tried next. **Note:** The process below could take up to 5 minutes."
   ]
  },
  {
   "cell_type": "code",
   "execution_count": 17,
   "id": "enhanced-vegetarian",
   "metadata": {},
   "outputs": [
    {
     "name": "stdout",
     "output_type": "stream",
     "text": [
      "Training set score: 1.000 -> K = 1\n",
      "Test set score: 0.503 -> K = 1\n",
      "Training set score: 0.756 -> K = 2\n",
      "Test set score: 0.478 -> K = 2\n",
      "Training set score: 0.726 -> K = 3\n",
      "Test set score: 0.511 -> K = 3\n",
      "Training set score: 0.688 -> K = 4\n",
      "Test set score: 0.509 -> K = 4\n",
      "Training set score: 0.666 -> K = 5\n",
      "Test set score: 0.510 -> K = 5\n",
      "Training set score: 0.648 -> K = 6\n",
      "Test set score: 0.515 -> K = 6\n",
      "Training set score: 0.638 -> K = 7\n",
      "Test set score: 0.515 -> K = 7\n",
      "Training set score: 0.626 -> K = 8\n",
      "Test set score: 0.517 -> K = 8\n",
      "Training set score: 0.618 -> K = 9\n",
      "Test set score: 0.519 -> K = 9\n",
      "Training set score: 0.613 -> K = 10\n",
      "Test set score: 0.519 -> K = 10\n"
     ]
    },
    {
     "data": {
      "text/plain": [
       "<matplotlib.legend.Legend at 0x7f9e1a5a3910>"
      ]
     },
     "execution_count": 17,
     "metadata": {},
     "output_type": "execute_result"
    },
    {
     "data": {
      "image/png": "[encoded data removed]",
      "text/plain": [
       "<Figure size 432x288 with 1 Axes>"
      ]
     },
     "metadata": {
      "needs_background": "light"
     },
     "output_type": "display_data"
    }
   ],
   "source": [
    "# Train Model for multiple K values \n",
    "# This was adapted from the class example here: https://sites.google.com/view/mp6122-tec-1q21/class-2\n",
    "\n",
    "# Setup Arrays to keep accuracy data\n",
    "Train_Accuracy_KNN = []\n",
    "Test_Accuracy_KNN = []\n",
    "Log_Loss_KNN = []\n",
    "\n",
    "neighbors_settings = range(1, 11) # Test up to 10\n",
    "for n_neighbors in neighbors_settings:\n",
    "    # Setup Model with \"Ball Three Algorithm\"\n",
    "    \n",
    "    KNN_model = KNeighborsClassifier(n_neighbors=n_neighbors, algorithm='kd_tree', leaf_size = 30)\n",
    "    KNN_model.fit(delay_parameters_train, delay_results_train)\n",
    "    \n",
    "    # Pring Accuracy Results\n",
    "    \n",
    "    train_acc= KNN_model.score(delay_parameters_train, delay_results_train)\n",
    "    Train_Accuracy_KNN.append(train_acc)\n",
    "    \n",
    "    test_acc = KNN_model.score(delay_parameters_test, delay_results_test)\n",
    "    Test_Accuracy_KNN.append(test_acc)\n",
    "    \n",
    "    print(\"Training set score: {:.3f}\".format(train_acc) + \" -> K = \" + str(n_neighbors))\n",
    "    print(\"Test set score: {:.3f}\".format(test_acc)+ \" -> K = \" + str(n_neighbors))\n",
    "    \n",
    "    \n",
    "plt.plot(neighbors_settings, Train_Accuracy_KNN, label=\"training accuracy\")\n",
    "plt.plot(neighbors_settings, Test_Accuracy_KNN, label=\"test accuracy\")\n",
    "plt.ylabel(\"Accuracy\")\n",
    "plt.xlabel(\"n_neighbors\")\n",
    "plt.title(\"KNN with KD tree Algorithm\")\n",
    "plt.legend()"
   ]
  },
  {
   "cell_type": "markdown",
   "id": "noticed-script",
   "metadata": {},
   "source": [
    "The result of using **KD Tree** is basically the same and it appears that the number of neighbors does not have an effect on how good the algorithm is. We would try with the \"auto\" setting in the algorithm parameter and with a large number of neighbors like a 100.\n",
    "\n",
    "**Note:** The process could take up to 5 minutes."
   ]
  },
  {
   "cell_type": "code",
   "execution_count": 20,
   "id": "eight-drinking",
   "metadata": {},
   "outputs": [
    {
     "name": "stdout",
     "output_type": "stream",
     "text": [
      "\n",
      "Training set score: 0.528\t -> K = 100\n",
      "\n",
      "Test set score: 0.515\t\t -> K = 100\n"
     ]
    }
   ],
   "source": [
    "# Setup Model with \"Ball Three Algorithm\"\n",
    "\n",
    "KNN_model = KNeighborsClassifier(n_neighbors=100, algorithm='auto', leaf_size = 50)\n",
    "KNN_model.fit(delay_parameters_train, delay_results_train)\n",
    "\n",
    "# Pring Accuracy Results\n",
    "\n",
    "train_acc= KNN_model.score(delay_parameters_train, delay_results_train)\n",
    "\n",
    "test_acc = KNN_model.score(delay_parameters_test, delay_results_test)\n",
    "\n",
    "print(\"\\nTraining set score: {:.3f}\".format(train_acc) + \"\\t -> K = \" + str(100))\n",
    "print(\"\\nTest set score: {:.3f}\".format(test_acc)+ \"\\t\\t -> K = \" + str(100))"
   ]
  },
  {
   "cell_type": "markdown",
   "id": "fundamental-advocate",
   "metadata": {},
   "source": [
    "As it can be seen above the number of neighbors practically had no effect in the result. The rest of the metrics would be calculated."
   ]
  },
  {
   "cell_type": "code",
   "execution_count": 21,
   "id": "shaped-imagination",
   "metadata": {},
   "outputs": [
    {
     "name": "stdout",
     "output_type": "stream",
     "text": [
      "Confusion Matrix KNN Neighbors K=100\n",
      "[[0.54394218 0.00097522 0.0511129  0.         0.40396971]\n",
      " [0.57083333 0.0125     0.07291667 0.         0.34375   ]\n",
      " [0.34676145 0.00124125 0.15730084 0.         0.49469646]\n",
      " [0.48623853 0.         0.09174312 0.         0.42201835]\n",
      " [0.21954337 0.         0.05164701 0.         0.72880962]]\n"
     ]
    },
    {
     "data": {
      "image/png": "[encoded data removed]",
      "text/plain": [
       "<Figure size 720x720 with 2 Axes>"
      ]
     },
     "metadata": {
      "needs_background": "light"
     },
     "output_type": "display_data"
    }
   ],
   "source": [
    "# Confusion Matrix\n",
    "disp, ax = plt.subplots(figsize=(10, 10))\n",
    "disp = plot_confusion_matrix(KNN_model,delay_parameters_test, delay_results_test,labels = [0,1,2,3,4],\n",
    "                             cmap=plt.cm.Blues,ax=ax,normalize='true')\n",
    "\n",
    "# Plot confusion matrix\n",
    "title = \"Confusion Matrix KNN Neighbors K=100\"\n",
    "\n",
    "ax.set_title(title)\n",
    "x_ticks_labels = ['CC','WD','LD','SD','LAD']\n",
    "plt.xticks([0,1,2,3,4],x_ticks_labels)\n",
    "plt.yticks([0,1,2,3,4],x_ticks_labels)\n",
    "print(title)\n",
    "print(disp.confusion_matrix)\n",
    "\n",
    "plt.show()"
   ]
  },
  {
   "cell_type": "code",
   "execution_count": 22,
   "id": "dynamic-straight",
   "metadata": {},
   "outputs": [
    {
     "name": "stdout",
     "output_type": "stream",
     "text": [
      "Log Loss KNN: 1.168\n",
      "              precision    recall  f1-score   support\n",
      "\n",
      "          CC       0.54      0.54      0.54     17432\n",
      "          WD       0.46      0.01      0.02      1920\n",
      "          LD       0.42      0.16      0.23      8862\n",
      "          SD       0.00      0.00      0.00       109\n",
      "         LAD       0.51      0.73      0.60     17213\n",
      "\n",
      "    accuracy                           0.51     45536\n",
      "   macro avg       0.39      0.29      0.28     45536\n",
      "weighted avg       0.50      0.51      0.48     45536\n",
      "\n"
     ]
    },
    {
     "name": "stderr",
     "output_type": "stream",
     "text": [
      "/home/rscd27/miniconda3/envs/py3/lib/python3.9/site-packages/sklearn/metrics/_classification.py:1221: UndefinedMetricWarning: Precision and F-score are ill-defined and being set to 0.0 in labels with no predicted samples. Use `zero_division` parameter to control this behavior.\n",
      "  _warn_prf(average, modifier, msg_start, len(result))\n"
     ]
    }
   ],
   "source": [
    "# Calculate Predict Probability\n",
    "\n",
    "delay_results_test_prep = KNN_model.predict_proba(delay_parameters_test) \n",
    "\n",
    "# This provides the probability of each flight belonging to one of the five classes.\n",
    "\n",
    "LogLoss = log_loss(delay_results_test, delay_results_test_prep)\n",
    "\n",
    "# Print Results\n",
    "\n",
    "print(\"Log Loss KNN: {:.3f}\".format((LogLoss)))\n",
    "\n",
    "# Class names\n",
    "\n",
    "delay_results_test_predicted = KNN_model.predict(delay_parameters_test)\n",
    "\n",
    "class_names = ['CC','WD','LD','SD','LAD']\n",
    "print(classification_report(delay_results_test, delay_results_test_predicted, target_names=class_names))"
   ]
  },
  {
   "cell_type": "markdown",
   "id": "proprietary-lighting",
   "metadata": {},
   "source": [
    "Summary of Results\n",
    "\n",
    "|        Model Name        \t| Accuracy \t| Log Loss \t| F1-score \t| Precision \t| Recall \t|\n",
    "|:------------------------:\t|:--------:\t|:--------:\t|:--------:\t|:---------:\t|:------:\t|\n",
    "| KNN Classification k=100 \t|   0.515  \t|   1.168  \t|   0.48   \t|    0.50   \t|  0.51  \t|\n",
    "\n",
    "\n",
    "The results were not good relativily to the other algorithms, the **SD** class was particularly affected due to having a small weight compared to the other ones.\n",
    "\n",
    "## Categorical Naive Bayes\n",
    "\n",
    "Documentation for the method can be found [here](https://scikit-learn.org/stable/modules/generated/sklearn.naive_bayes.CategoricalNB.html).\n",
    "\n",
    "All of the metrics would be calculated and presented below:"
   ]
  },
  {
   "cell_type": "code",
   "execution_count": 24,
   "id": "honey-armenia",
   "metadata": {},
   "outputs": [
    {
     "name": "stdout",
     "output_type": "stream",
     "text": [
      "\n",
      "delay_parameters_test shape: (45536, 27)\n",
      "\n",
      "\n",
      "delay_results_test shape: (45536,)\n",
      "\n",
      "Class weights: [0.3828179901616304, 0.0421644413211525, 0.19461524947294448, 0.0023937104708362613, 0.3780086085734364]\n",
      "Training set score Naive Bayes: 0.739\n",
      "Test set score Naive Bayes: 0.736\n"
     ]
    }
   ],
   "source": [
    "# Import Model\n",
    "\n",
    "from sklearn.naive_bayes import GaussianNB\n",
    "\n",
    "# Setup Test and Train Data\n",
    "\n",
    "delay_parameters_train, delay_parameters_test, delay_results_train, delay_results_test = train_test_split(\n",
    "    delay_parameters, delay_results, test_size = 0.20, random_state = 25) # Train 80%, Test 20%\n",
    "\n",
    "print(\"\\ndelay_parameters_test shape: \" + str(delay_parameters_test.shape) + \"\\n\")\n",
    "print(\"\\ndelay_results_test shape: \" + str(delay_results_test.shape) + \"\\n\")\n",
    "\n",
    "# Calculate Classes weights\n",
    "class_counts = delay_results_test.value_counts()\n",
    "class_counts_total = delay_results_test.value_counts().sum()\n",
    "class_weights = []\n",
    "for idx in range(0,len(class_counts)):\n",
    "    class_weight = class_counts[idx] / class_counts_total\n",
    "    class_weights.append(class_weight)\n",
    "\n",
    "print(\"Class weights: \" + str(class_weights))\n",
    "\n",
    "# Class labels\n",
    "class_labels = ['CC','WD','LD','SD','LAD']\n",
    "\n",
    "# Setup Model\n",
    "\n",
    "GaussNB_model = GaussianNB()\n",
    "GaussNB_model.fit(delay_parameters_train, delay_results_train)\n",
    "\n",
    "# Calculate Accuracy\n",
    "\n",
    "print(\"Training set score Naive Bayes: {:.3f}\".format(GaussNB_model.score(delay_parameters_train, delay_results_train)))\n",
    "\n",
    "print(\"Test set score Naive Bayes: {:.3f}\".format(GaussNB_model.score(delay_parameters_test, delay_results_test)))"
   ]
  },
  {
   "cell_type": "markdown",
   "id": "selective-divorce",
   "metadata": {},
   "source": [
    "The training and test score are 73.9% and 73.8% respectively. This method had better results than the KNN one."
   ]
  },
  {
   "cell_type": "code",
   "execution_count": 25,
   "id": "interested-smith",
   "metadata": {},
   "outputs": [
    {
     "name": "stdout",
     "output_type": "stream",
     "text": [
      "Confusion Matrix Naive Bayes NB\n",
      "[[6.68081689e-01 0.00000000e+00 6.95846719e-02 1.31941257e-03\n",
      "  2.61014227e-01]\n",
      " [1.36458333e-01 4.58854167e-01 1.07291667e-01 5.20833333e-04\n",
      "  2.96875000e-01]\n",
      " [6.66892349e-02 1.12841345e-04 6.84834123e-01 4.51365380e-04\n",
      "  2.47912435e-01]\n",
      " [3.02752294e-01 0.00000000e+00 1.46788991e-01 8.25688073e-02\n",
      "  4.67889908e-01]\n",
      " [6.82042642e-02 2.32382502e-04 6.61128217e-02 4.06669378e-04\n",
      "  8.65043862e-01]]\n"
     ]
    },
    {
     "data": {
      "image/png": "[encoded data removed]",
      "text/plain": [
       "<Figure size 720x720 with 2 Axes>"
      ]
     },
     "metadata": {
      "needs_background": "light"
     },
     "output_type": "display_data"
    },
    {
     "name": "stdout",
     "output_type": "stream",
     "text": [
      "Log Loss: 0.641\n",
      "              precision    recall  f1-score   support\n",
      "\n",
      "          CC       0.85      0.67      0.75     17432\n",
      "          WD       0.99      0.46      0.63      1920\n",
      "          LD       0.70      0.68      0.69      8862\n",
      "          SD       0.20      0.08      0.12       109\n",
      "         LAD       0.67      0.87      0.75     17213\n",
      "\n",
      "    accuracy                           0.74     45536\n",
      "   macro avg       0.68      0.55      0.59     45536\n",
      "weighted avg       0.76      0.74      0.73     45536\n",
      "\n"
     ]
    }
   ],
   "source": [
    "# Confusion Matrix\n",
    "disp, ax = plt.subplots(figsize=(10, 10))\n",
    "disp = plot_confusion_matrix(GaussNB_model,delay_parameters_test, delay_results_test,labels = [0,1,2,3,4],\n",
    "                             cmap=plt.cm.Blues,ax=ax,normalize='true')\n",
    "\n",
    "# Plot confusion matrix\n",
    "title = \"Confusion Matrix Naive Bayes NB\"\n",
    "\n",
    "ax.set_title(title)\n",
    "x_ticks_labels = ['CC','WD','LD','SD','LAD']\n",
    "plt.xticks([0,1,2,3,4],x_ticks_labels)\n",
    "plt.yticks([0,1,2,3,4],x_ticks_labels)\n",
    "print(title)\n",
    "print(disp.confusion_matrix)\n",
    "\n",
    "plt.show()\n",
    "\n",
    "# Calculate Predict Probability\n",
    "\n",
    "delay_results_test_prep = GaussNB_model.predict_proba(delay_parameters_test) \n",
    "\n",
    "# This provides the probability of each flight belonging to one of the five classes.\n",
    "\n",
    "LogLoss = log_loss(delay_results_test, delay_results_test_prep)\n",
    "\n",
    "# Print Results\n",
    "\n",
    "print(\"Log Loss: {:.3f}\".format((LogLoss)))\n",
    "\n",
    "# Class names\n",
    "\n",
    "delay_results_test_predicted = GaussNB_model.predict(delay_parameters_test)\n",
    "\n",
    "class_names = ['CC','WD','LD','SD','LAD']\n",
    "print(classification_report(delay_results_test, delay_results_test_predicted, target_names=class_names))"
   ]
  },
  {
   "cell_type": "markdown",
   "id": "english-cradle",
   "metadata": {},
   "source": [
    "This algorithm had the best Log Loss score so far. Also the compilation time of this algorithm vs the KNN was better.\n",
    "\n",
    "A summary of the results above is presented:\n",
    "\n",
    "|       Model Name       \t| Accuracy \t| Log Loss \t| F1-score \t| Precision \t| Recall \t|\n",
    "|:----------------------:\t|:--------:\t|:--------:\t|:--------:\t|:---------:\t|:------:\t|\n",
    "| Naive Bayes GaussianNB \t|   0.738  \t|   0.641  \t|   0.73   \t|    0.76   \t|  0.74  \t|\n",
    "\n",
    "## Decision Trees \n",
    "\n",
    "Based on the [Decisions Tree sklean documentation](https://scikit-learn.org/stable/modules/tree.html#tree), these type of algorithms are particularly good for multicategorical data like the one being used here.\n",
    "\n",
    "We start by importing the model:"
   ]
  },
  {
   "cell_type": "code",
   "execution_count": 26,
   "id": "operating-horse",
   "metadata": {},
   "outputs": [
    {
     "name": "stdout",
     "output_type": "stream",
     "text": [
      "\n",
      "delay_parameters_test shape: (45536, 27)\n",
      "\n",
      "\n",
      "delay_results_test shape: (45536,)\n",
      "\n"
     ]
    },
    {
     "data": {
      "text/plain": [
       "DecisionTreeClassifier(random_state=50)"
      ]
     },
     "execution_count": 26,
     "metadata": {},
     "output_type": "execute_result"
    }
   ],
   "source": [
    "# Import tree model\n",
    "\n",
    "from sklearn import tree\n",
    "\n",
    "# Prepare the data - using the same random seed and test size of 20%\n",
    "delay_parameters_train, delay_parameters_test, delay_results_train, delay_results_test = train_test_split(\n",
    "    delay_parameters, delay_results, test_size = 0.20, random_state = 25) # Train 80%, Test 20%\n",
    "\n",
    "\n",
    "print(\"\\ndelay_parameters_test shape: \" + str(delay_parameters_test.shape) + \"\\n\")\n",
    "print(\"\\ndelay_results_test shape: \" + str(delay_results_test.shape)+ \"\\n\")\n",
    "\n",
    "# Setup the model\n",
    "Dtree_model = tree.DecisionTreeClassifier(random_state=50)\n",
    "\n",
    "# Train the model\n",
    "\n",
    "Dtree_model.fit(delay_parameters_train, delay_results_train)"
   ]
  },
  {
   "cell_type": "markdown",
   "id": "stopped-hygiene",
   "metadata": {},
   "source": [
    "Now that the model has been created it would be tested with the designated datasets."
   ]
  },
  {
   "cell_type": "code",
   "execution_count": 27,
   "id": "median-retirement",
   "metadata": {},
   "outputs": [
    {
     "name": "stdout",
     "output_type": "stream",
     "text": [
      "Training set score: 1.000\n",
      "\n",
      "Test set score: 0.997\n",
      "\n"
     ]
    }
   ],
   "source": [
    "print(\"Training set score: {:.3f}\\n\".format(Dtree_model.score(delay_parameters_train, delay_results_train)))\n",
    "\n",
    "print(\"Test set score: {:.3f}\\n\".format(Dtree_model.score(delay_parameters_test, delay_results_test)))"
   ]
  },
  {
   "cell_type": "markdown",
   "id": "rocky-weight",
   "metadata": {},
   "source": [
    "The accuracy of the model is over 99% for both datasets. However, its important to consider the complexity of the generated model. The code below would provide some inside into that."
   ]
  },
  {
   "cell_type": "code",
   "execution_count": 28,
   "id": "liquid-tamil",
   "metadata": {},
   "outputs": [
    {
     "name": "stdout",
     "output_type": "stream",
     "text": [
      "Decision Tree depth: 15.000\n",
      "\n",
      "Decision Tree number of leaves: 473.000\n",
      "\n"
     ]
    }
   ],
   "source": [
    "print(\"Decision Tree depth: {:.3f}\\n\".format(Dtree_model.get_depth()))\n",
    "print(\"Decision Tree number of leaves: {:.3f}\\n\".format(Dtree_model.get_n_leaves()))"
   ]
  },
  {
   "cell_type": "markdown",
   "id": "nominated-tracy",
   "metadata": {},
   "source": [
    "The results above indicate that the Tree has a size or depth of 15 elements and 473 leaves total.\n",
    "\n",
    "The rest of the metrics would be evaluated below:"
   ]
  },
  {
   "cell_type": "code",
   "execution_count": 29,
   "id": "unknown-snowboard",
   "metadata": {},
   "outputs": [
    {
     "name": "stdout",
     "output_type": "stream",
     "text": [
      "Confusion Matrix Decision Trees\n",
      "[[9.98336393e-01 1.14731528e-04 9.75217990e-04 0.00000000e+00\n",
      "  5.73657641e-04]\n",
      " [2.08333333e-03 9.92187500e-01 2.08333333e-03 0.00000000e+00\n",
      "  3.64583333e-03]\n",
      " [2.48250959e-03 1.12841345e-03 9.94357933e-01 1.12841345e-04\n",
      "  1.91830287e-03]\n",
      " [0.00000000e+00 0.00000000e+00 9.17431193e-03 9.63302752e-01\n",
      "  2.75229358e-02]\n",
      " [9.87625632e-04 4.06669378e-04 8.13338756e-04 1.16191251e-04\n",
      "  9.97676175e-01]]\n"
     ]
    },
    {
     "data": {
      "image/png": "[encoded data removed]",
      "text/plain": [
       "<Figure size 720x720 with 2 Axes>"
      ]
     },
     "metadata": {
      "needs_background": "light"
     },
     "output_type": "display_data"
    },
    {
     "name": "stdout",
     "output_type": "stream",
     "text": [
      "\n",
      "Log Loss Decision Tree: 0.105\n",
      "\n",
      "              precision    recall  f1-score   support\n",
      "\n",
      "          CC       1.00      1.00      1.00     17432\n",
      "          WD       0.99      0.99      0.99      1920\n",
      "          LD       1.00      0.99      1.00      8862\n",
      "          SD       0.97      0.96      0.97       109\n",
      "         LAD       1.00      1.00      1.00     17213\n",
      "\n",
      "    accuracy                           1.00     45536\n",
      "   macro avg       0.99      0.99      0.99     45536\n",
      "weighted avg       1.00      1.00      1.00     45536\n",
      "\n"
     ]
    }
   ],
   "source": [
    "#Confusion Matrix\n",
    "disp, ax = plt.subplots(figsize=(10, 10))\n",
    "disp = plot_confusion_matrix(Dtree_model,delay_parameters_test, delay_results_test,labels = [0,1,2,3,4],\n",
    "                             cmap=plt.cm.Blues,ax=ax,normalize='true')\n",
    "\n",
    "# Plot confusion matrix\n",
    "title = \"Confusion Matrix Decision Trees\"\n",
    "\n",
    "ax.set_title(title)\n",
    "x_ticks_labels = ['CC','WD','LD','SD','LAD']\n",
    "plt.xticks([0,1,2,3,4],x_ticks_labels)\n",
    "plt.yticks([0,1,2,3,4],x_ticks_labels)\n",
    "print(title)\n",
    "print(disp.confusion_matrix)\n",
    "\n",
    "plt.show()\n",
    "\n",
    "# Calculate Predict Probability\n",
    "\n",
    "delay_results_test_prep = Dtree_model.predict_proba(delay_parameters_test) \n",
    "\n",
    "# This provides the probability of each flight belonging to one of the five classes.\n",
    "\n",
    "LogLoss = log_loss(delay_results_test, delay_results_test_prep)\n",
    "\n",
    "# Print Results\n",
    "\n",
    "print(\"\\nLog Loss Decision Tree: {:.3f}\\n\".format((LogLoss)))\n",
    "\n",
    "# Class names\n",
    "\n",
    "delay_results_test_predicted = Dtree_model.predict(delay_parameters_test)\n",
    "\n",
    "class_names = ['CC','WD','LD','SD','LAD']\n",
    "print(classification_report(delay_results_test, delay_results_test_predicted, target_names=class_names))"
   ]
  },
  {
   "cell_type": "markdown",
   "id": "realistic-wholesale",
   "metadata": {},
   "source": [
    "As it can be seen the results of the algorithm are outstanding. In the table below it is possible to see a summary of the results:\n",
    "\n",
    "|   Model Name  \t| Accuracy \t| Log Loss \t| F1-score \t| Precision \t| Recall \t|\n",
    "|:-------------:\t|:--------:\t|:--------:\t|:--------:\t|:---------:\t|:------:\t|\n",
    "| Decision Tree \t|   0.997  \t|   0.105  \t|   1.00   \t|    1.00   \t|  1.00  \t|\n",
    "\n",
    "### Random Forest\n",
    "\n",
    "The Random Forest algorithm was included due to the low scores obtained with the KNN algorithm. Based on its documentation [here], this well suited for multiclass classification problems like this one. \n",
    "\n",
    "The first step is to load the model"
   ]
  },
  {
   "cell_type": "code",
   "execution_count": 30,
   "id": "thrown-shoot",
   "metadata": {},
   "outputs": [
    {
     "name": "stdout",
     "output_type": "stream",
     "text": [
      "\n",
      "delay_parameters_test shape: (45536, 27)\n",
      "\n",
      "\n",
      "delay_results_test shape: (45536,)\n",
      "\n"
     ]
    },
    {
     "data": {
      "text/plain": [
       "RandomForestClassifier()"
      ]
     },
     "execution_count": 30,
     "metadata": {},
     "output_type": "execute_result"
    }
   ],
   "source": [
    "# Load Random Forest Classifier\n",
    "\n",
    "from sklearn.ensemble import RandomForestClassifier\n",
    "\n",
    "# Prepare the data - using the same random seed and test size of 20%\n",
    "delay_parameters_train, delay_parameters_test, delay_results_train, delay_results_test = train_test_split(\n",
    "    delay_parameters, delay_results, test_size = 0.20, random_state = 25) # Train 80%, Test 20%\n",
    "\n",
    "\n",
    "print(\"\\ndelay_parameters_test shape: \" + str(delay_parameters_test.shape) + \"\\n\")\n",
    "print(\"\\ndelay_results_test shape: \" + str(delay_results_test.shape)+ \"\\n\")\n",
    "\n",
    "# Setup the model\n",
    "Rforest_model = RandomForestClassifier(n_estimators=100)\n",
    "\n",
    "# Train the model\n",
    "\n",
    "Rforest_model.fit(delay_parameters_train, delay_results_train)"
   ]
  },
  {
   "cell_type": "markdown",
   "id": "parallel-forum",
   "metadata": {},
   "source": [
    "**Important:** The model was compiled with the default number of estimators or trees in the forest. Based on the results of training and test accuracy more values could be tested."
   ]
  },
  {
   "cell_type": "code",
   "execution_count": 31,
   "id": "concerned-novel",
   "metadata": {},
   "outputs": [
    {
     "name": "stdout",
     "output_type": "stream",
     "text": [
      "Training set score: 1.000\n",
      "\n",
      "Test set score: 0.998\n",
      "\n"
     ]
    }
   ],
   "source": [
    "print(\"Training set score: {:.3f}\\n\".format(Rforest_model.score(delay_parameters_train, delay_results_train)))\n",
    "\n",
    "print(\"Test set score: {:.3f}\\n\".format(Rforest_model.score(delay_parameters_test, delay_results_test)))"
   ]
  },
  {
   "cell_type": "markdown",
   "id": "lightweight-thickness",
   "metadata": {},
   "source": [
    "The results for the random forest are very good compared to the ones for the Decision Tree, however, the compilation time was longer. We will evaluate several values of trees $[5,10,25,50,75,100]$ to compare its results. "
   ]
  },
  {
   "cell_type": "code",
   "execution_count": 32,
   "id": "still-literature",
   "metadata": {},
   "outputs": [
    {
     "name": "stdout",
     "output_type": "stream",
     "text": [
      "Training set score: 0.992 \t -> N_Trees = 1\n",
      "Test set score: 0.978 \t\t -> N_Trees = 1\n",
      "Training set score: 0.999 \t -> N_Trees = 5\n",
      "Test set score: 0.991 \t\t -> N_Trees = 5\n",
      "Training set score: 1.000 \t -> N_Trees = 10\n",
      "Test set score: 0.995 \t\t -> N_Trees = 10\n",
      "Training set score: 1.000 \t -> N_Trees = 25\n",
      "Test set score: 0.997 \t\t -> N_Trees = 25\n",
      "Training set score: 1.000 \t -> N_Trees = 50\n",
      "Test set score: 0.998 \t\t -> N_Trees = 50\n",
      "Training set score: 1.000 \t -> N_Trees = 75\n",
      "Test set score: 0.997 \t\t -> N_Trees = 75\n",
      "Training set score: 1.000 \t -> N_Trees = 100\n",
      "Test set score: 0.998 \t\t -> N_Trees = 100\n"
     ]
    }
   ],
   "source": [
    "# Setup Arrays to keep accuracy data\n",
    "Train_Accuracy_RF = []\n",
    "Test_Accuracy_RF = []\n",
    "\n",
    "N_Trees_settings = [1,5,10,25,50,75,100] # Test values\n",
    "for n_trees in N_Trees_settings:\n",
    "    # Setup Model with \"Ball Three Algorithm\"\n",
    "    \n",
    "    Rforest_model = RandomForestClassifier(n_estimators=n_trees)\n",
    "    Rforest_model.fit(delay_parameters_train, delay_results_train)\n",
    "    \n",
    "    # Pring Accuracy Results\n",
    "    \n",
    "    train_acc= Rforest_model.score(delay_parameters_train, delay_results_train)\n",
    "    Train_Accuracy_RF.append(train_acc)\n",
    "    \n",
    "    test_acc = Rforest_model.score(delay_parameters_test, delay_results_test)\n",
    "    Test_Accuracy_RF.append(test_acc)\n",
    "    \n",
    "    print(\"Training set score: {:.3f}\".format(train_acc) + \" \\t -> N_Trees = \" + str(n_trees))\n",
    "    print(\"Test set score: {:.3f}\".format(test_acc)+ \" \\t\\t -> N_Trees = \" + str(n_trees))"
   ]
  },
  {
   "cell_type": "markdown",
   "id": "bibliographic-kernel",
   "metadata": {},
   "source": [
    "Now we plot the results above"
   ]
  },
  {
   "cell_type": "code",
   "execution_count": 33,
   "id": "delayed-sleeping",
   "metadata": {},
   "outputs": [
    {
     "data": {
      "text/plain": [
       "<matplotlib.legend.Legend at 0x7f9e11d6b130>"
      ]
     },
     "execution_count": 33,
     "metadata": {},
     "output_type": "execute_result"
    },
    {
     "data": {
      "image/png": "[encoded data removed]",
      "text/plain": [
       "<Figure size 432x288 with 1 Axes>"
      ]
     },
     "metadata": {
      "needs_background": "light"
     },
     "output_type": "display_data"
    }
   ],
   "source": [
    "plt.plot(N_Trees_settings, Train_Accuracy_RF, label=\"training accuracy\")\n",
    "plt.plot(N_Trees_settings, Test_Accuracy_RF, label=\"test accuracy\")\n",
    "plt.ylabel(\"Accuracy\")\n",
    "plt.xlabel(\"n_trees\")\n",
    "plt.title(\"Random Forest Accuracy\")\n",
    "plt.legend()"
   ]
  },
  {
   "cell_type": "markdown",
   "id": "liquid-peninsula",
   "metadata": {},
   "source": [
    "As it can be seen above, the number of trees doe snot seem to have a strong effect in the accuracy values. Now we will calculate the rest of the metrics"
   ]
  },
  {
   "cell_type": "code",
   "execution_count": 34,
   "id": "descending-fantasy",
   "metadata": {},
   "outputs": [
    {
     "name": "stdout",
     "output_type": "stream",
     "text": [
      "Confusion Matrix Decision Trees\n",
      "[[9.98795319e-01 0.00000000e+00 4.01560349e-04 0.00000000e+00\n",
      "  8.03120698e-04]\n",
      " [1.56250000e-03 9.91666667e-01 5.20833333e-04 0.00000000e+00\n",
      "  6.25000000e-03]\n",
      " [2.14398556e-03 7.89889415e-04 9.94809298e-01 0.00000000e+00\n",
      "  2.25682690e-03]\n",
      " [9.17431193e-03 0.00000000e+00 0.00000000e+00 9.63302752e-01\n",
      "  2.75229358e-02]\n",
      " [8.13338756e-04 0.00000000e+00 4.06669378e-04 0.00000000e+00\n",
      "  9.98779992e-01]]\n"
     ]
    },
    {
     "data": {
      "image/png": "[encoded data removed]",
      "text/plain": [
       "<Figure size 720x720 with 2 Axes>"
      ]
     },
     "metadata": {
      "needs_background": "light"
     },
     "output_type": "display_data"
    },
    {
     "name": "stdout",
     "output_type": "stream",
     "text": [
      "\n",
      "Log Loss Decision Tree: 0.024\n",
      "\n",
      "              precision    recall  f1-score   support\n",
      "\n",
      "          CC       1.00      1.00      1.00     17432\n",
      "          WD       1.00      0.99      0.99      1920\n",
      "          LD       1.00      0.99      1.00      8862\n",
      "          SD       1.00      0.96      0.98       109\n",
      "         LAD       1.00      1.00      1.00     17213\n",
      "\n",
      "    accuracy                           1.00     45536\n",
      "   macro avg       1.00      0.99      0.99     45536\n",
      "weighted avg       1.00      1.00      1.00     45536\n",
      "\n"
     ]
    }
   ],
   "source": [
    "#Confusion Matrix\n",
    "disp, ax = plt.subplots(figsize=(10, 10))\n",
    "disp = plot_confusion_matrix(Rforest_model,delay_parameters_test, delay_results_test,labels = [0,1,2,3,4],\n",
    "                             cmap=plt.cm.Blues,ax=ax,normalize='true')\n",
    "\n",
    "# Plot confusion matrix\n",
    "title = \"Confusion Matrix Decision Trees\"\n",
    "\n",
    "ax.set_title(title)\n",
    "x_ticks_labels = ['CC','WD','LD','SD','LAD']\n",
    "plt.xticks([0,1,2,3,4],x_ticks_labels)\n",
    "plt.yticks([0,1,2,3,4],x_ticks_labels)\n",
    "print(title)\n",
    "print(disp.confusion_matrix)\n",
    "\n",
    "plt.show()\n",
    "\n",
    "# Calculate Predict Probability\n",
    "\n",
    "delay_results_test_prep = Rforest_model.predict_proba(delay_parameters_test) \n",
    "\n",
    "# This provides the probability of each flight belonging to one of the five classes.\n",
    "\n",
    "LogLoss = log_loss(delay_results_test, delay_results_test_prep)\n",
    "\n",
    "# Print Results\n",
    "\n",
    "print(\"\\nLog Loss Decision Tree: {:.3f}\\n\".format((LogLoss)))\n",
    "\n",
    "# Class names\n",
    "\n",
    "delay_results_test_predicted = Rforest_model.predict(delay_parameters_test)\n",
    "\n",
    "class_names = ['CC','WD','LD','SD','LAD']\n",
    "print(classification_report(delay_results_test, delay_results_test_predicted, target_names=class_names))"
   ]
  },
  {
   "cell_type": "markdown",
   "id": "angry-interest",
   "metadata": {},
   "source": [
    "As it was mentioned above, the results were exceptional even this type of unbalanced classes. In the table below its a summary fo the results.\n",
    "\n",
    "|        Model Name       \t| Accuracy \t| Log Loss \t| F1-score \t| Precision \t| Recall \t|\n",
    "|:-----------------------:\t|:--------:\t|:--------:\t|:--------:\t|:---------:\t|:------:\t|\n",
    "| Random Forest 100 trees \t|   0.997  \t|   0.024  \t|   1.00   \t|    1.00   \t|  1.00  \t|\n",
    "\n",
    "## Ada Boost Classifier\n",
    "\n",
    "The Ada Boost algorith documentation can be found [here](https://scikit-learn.org/stable/modules/ensemble.html#adaboost). This algoritm relies on a serious of weak classifiers working together. These are small decissions trees that are combined into what could be consider a **strong** classifier.\n",
    "\n",
    "Its very popular for multiclass classification due to how easy is to train a lot of these weak classifiers. The efectivity of the algorithm depends on the number of weak classifeirs.\n",
    "\n",
    "First we start by importing the model"
   ]
  },
  {
   "cell_type": "code",
   "execution_count": 35,
   "id": "extreme-duplicate",
   "metadata": {},
   "outputs": [
    {
     "name": "stdout",
     "output_type": "stream",
     "text": [
      "\n",
      "delay_parameters_test shape: (45536, 27)\n",
      "\n",
      "\n",
      "delay_results_test shape: (45536,)\n",
      "\n",
      "Training set score: 0.994 \t -> N_Classifiers = 1\n",
      "Test set score: 0.984 \t\t -> N_Classifiers = 1\n",
      "Training set score: 1.000 \t -> N_Classifiers = 5\n",
      "Test set score: 0.993 \t\t -> N_Classifiers = 5\n",
      "Training set score: 1.000 \t -> N_Classifiers = 10\n",
      "Test set score: 0.995 \t\t -> N_Classifiers = 10\n",
      "Training set score: 1.000 \t -> N_Classifiers = 25\n",
      "Test set score: 0.997 \t\t -> N_Classifiers = 25\n",
      "Training set score: 1.000 \t -> N_Classifiers = 50\n",
      "Test set score: 0.997 \t\t -> N_Classifiers = 50\n",
      "Training set score: 1.000 \t -> N_Classifiers = 75\n",
      "Test set score: 0.998 \t\t -> N_Classifiers = 75\n",
      "Training set score: 1.000 \t -> N_Classifiers = 100\n",
      "Test set score: 0.998 \t\t -> N_Classifiers = 100\n"
     ]
    }
   ],
   "source": [
    "# Import the model\n",
    "from sklearn.ensemble import AdaBoostClassifier\n",
    "\n",
    "# Prepare the data - using the same random seed and test size of 20%\n",
    "delay_parameters_train, delay_parameters_test, delay_results_train, delay_results_test = train_test_split(\n",
    "    delay_parameters, delay_results, test_size = 0.20, random_state = 25, stratify=delay_results) # Train 80%, Test 20%\n",
    "\n",
    "\n",
    "print(\"\\ndelay_parameters_test shape: \" + str(delay_parameters_test.shape) + \"\\n\")\n",
    "print(\"\\ndelay_results_test shape: \" + str(delay_results_test.shape)+ \"\\n\")\n",
    "\n",
    "# Setup Arrays to keep accuracy data\n",
    "Train_Accuracy_AB = []\n",
    "Test_Accuracy_AB = []\n",
    "\n",
    "N_Trees_settings = [1,5,10,25,50,75,100] # Test values\n",
    "for n_trees in N_Trees_settings:\n",
    "    # Setup Model\n",
    "    \n",
    "    ABClassifier_model = RandomForestClassifier(n_estimators=n_trees)\n",
    "    ABClassifier_model.fit(delay_parameters_train, delay_results_train)\n",
    "    \n",
    "    # Pring Accuracy Results\n",
    "    \n",
    "    train_acc= ABClassifier_model.score(delay_parameters_train, delay_results_train)\n",
    "    Train_Accuracy_AB.append(train_acc)\n",
    "    \n",
    "    test_acc = ABClassifier_model.score(delay_parameters_test, delay_results_test)\n",
    "    Test_Accuracy_AB.append(test_acc)\n",
    "    \n",
    "    print(\"Training set score: {:.3f}\".format(train_acc) + \" \\t -> N_Classifiers = \" + str(n_trees))\n",
    "    print(\"Test set score: {:.3f}\".format(test_acc)+ \" \\t\\t -> N_Classifiers = \" + str(n_trees))\n"
   ]
  },
  {
   "cell_type": "markdown",
   "id": "grateful-retail",
   "metadata": {},
   "source": [
    "As it can be seen above after 10 Classifiers is not really worth increasing its number.\n",
    "\n",
    "In the section below the rest of the metrics would be calculated."
   ]
  },
  {
   "cell_type": "code",
   "execution_count": 36,
   "id": "considered-piece",
   "metadata": {},
   "outputs": [
    {
     "name": "stdout",
     "output_type": "stream",
     "text": [
      "Confusion Matrix Ada Boost\n",
      "[[9.98854525e-01 0.00000000e+00 3.43642612e-04 0.00000000e+00\n",
      "  8.01832761e-04]\n",
      " [2.64830508e-03 9.89406780e-01 2.11864407e-03 0.00000000e+00\n",
      "  5.82627119e-03]\n",
      " [1.69281120e-03 1.01568672e-03 9.96050107e-01 0.00000000e+00\n",
      "  1.24139488e-03]\n",
      " [9.34579439e-03 0.00000000e+00 1.86915888e-02 9.34579439e-01\n",
      "  3.73831776e-02]\n",
      " [3.48432056e-04 0.00000000e+00 4.06504065e-04 0.00000000e+00\n",
      "  9.99245064e-01]]\n"
     ]
    },
    {
     "data": {
      "image/png": "[encoded data removed]",
      "text/plain": [
       "<Figure size 720x720 with 2 Axes>"
      ]
     },
     "metadata": {
      "needs_background": "light"
     },
     "output_type": "display_data"
    },
    {
     "name": "stdout",
     "output_type": "stream",
     "text": [
      "\n",
      "Log Loss Ada Boost: 0.024\n",
      "\n",
      "              precision    recall  f1-score   support\n",
      "\n",
      "          CC       1.00      1.00      1.00     17460\n",
      "          WD       1.00      0.99      0.99      1888\n",
      "          LD       1.00      1.00      1.00      8861\n",
      "          SD       1.00      0.93      0.97       107\n",
      "         LAD       1.00      1.00      1.00     17220\n",
      "\n",
      "    accuracy                           1.00     45536\n",
      "   macro avg       1.00      0.98      0.99     45536\n",
      "weighted avg       1.00      1.00      1.00     45536\n",
      "\n"
     ]
    }
   ],
   "source": [
    "#Confusion Matrix\n",
    "disp, ax = plt.subplots(figsize=(10, 10))\n",
    "disp = plot_confusion_matrix(ABClassifier_model,delay_parameters_test, delay_results_test,labels = [0,1,2,3,4],\n",
    "                             cmap=plt.cm.Blues,ax=ax,normalize='true')\n",
    "\n",
    "# Plot confusion matrix\n",
    "title = \"Confusion Matrix Ada Boost\"\n",
    "\n",
    "ax.set_title(title)\n",
    "x_ticks_labels = ['CC','WD','LD','SD','LAD']\n",
    "plt.xticks([0,1,2,3,4],x_ticks_labels)\n",
    "plt.yticks([0,1,2,3,4],x_ticks_labels)\n",
    "print(title)\n",
    "print(disp.confusion_matrix)\n",
    "\n",
    "plt.show()\n",
    "\n",
    "# Calculate Predict Probability\n",
    "\n",
    "delay_results_test_prep = ABClassifier_model.predict_proba(delay_parameters_test) \n",
    "\n",
    "# This provides the probability of each flight belonging to one of the five classes.\n",
    "\n",
    "LogLoss = log_loss(delay_results_test, delay_results_test_prep)\n",
    "\n",
    "# Print Results\n",
    "\n",
    "print(\"\\nLog Loss Ada Boost: {:.3f}\\n\".format((LogLoss)))\n",
    "\n",
    "# Class names\n",
    "\n",
    "delay_results_test_predicted = ABClassifier_model.predict(delay_parameters_test)\n",
    "\n",
    "class_names = ['CC','WD','LD','SD','LAD']\n",
    "print(classification_report(delay_results_test, delay_results_test_predicted, target_names=class_names))"
   ]
  },
  {
   "cell_type": "markdown",
   "id": "prospective-heavy",
   "metadata": {},
   "source": [
    "As it can be seen this algorithm has excelent results even with unbalanced datatypes like the flight data. In the table below its possible to see a summary of these results\n",
    "\n",
    "|      Model Name      \t| Accuracy \t| Log Loss \t| F1-score \t| Precision \t| Recall \t|\n",
    "|:--------------------:\t|:--------:\t|:--------:\t|:--------:\t|:---------:\t|:------:\t|\n",
    "| Ada Boost  100 trees \t|   0.998  \t|   0.025  \t|   1.00   \t|    1.00   \t|  1.00  \t|\n",
    "\n",
    "## Compare all algorithms\n",
    "\n",
    "In the following table there is a summarry of all evaluated algorithms and their respective metrics:\n",
    "\n",
    "|              Model Name              \t| Accuracy \t| Log Loss \t| F1-score \t| Precision \t| Recall \t|\n",
    "|:------------------------------------:\t|:--------:\t|:--------:\t|:--------:\t|:---------:\t|:------:\t|\n",
    "|          Logistic Regression         \t|   0.969  \t|   1.609  \t|   0.84   \t|    0.98   \t|  0.80  \t|\n",
    "|       KNN Classification  k=100      \t|   0.515  \t|   1.168  \t|   0.48   \t|    0.50   \t|  0.51  \t|\n",
    "|        Naive Bayes GaussianNB        \t|   0.738  \t|   0.641  \t|   0.73   \t|    0.76   \t|  0.74  \t|\n",
    "| Decision Trees 15 trees - 473 leaves \t|   0.997  \t|   0.105  \t|   1.00   \t|    1.00   \t|  1.00  \t|\n",
    "|       Random Forest  100 trees       \t|   0.997  \t|   0.024  \t|   1.00   \t|    1.00   \t|  1.00  \t|\n",
    "|         Ada Boost  100 trees         \t|   0.998  \t|   0.025  \t|   1.00   \t|    1.00   \t|  1.00  \t|\n",
    "\n",
    "### Discussion\n",
    "\n",
    "The best results were obtained by the **Random Forest Algorithm**, this decision was wade on the Logaritmic Loss value which is a metric that allows to evaluate the preddition of all the classes combined. When there is a multiclass classification problems, the metrics of accuracy, F1 Score, Precission and Recall could be hard to interpretate and sometimes when averaging them between classes they could hide issues with the classification of single classes. For example the **Logistic Regression** algorithm had a precision of 98%, but a Recall of only 80%. The Recall helps to understand what is the percentage of the actual positives that was identified correctly. When reviewing the **Logistic Regression** algorithm confusion matrix, it is possible to see how the class 'SD' presented a large number of false negatives. This behavior is clearly represented on the fact that the logarithmic loss of this algorithm was the highest.\n",
    "\n",
    "The reason of why these results could be hard to analyze, it is the fact that the classes were clearly unbalanced. However, after proprocessing the data it was decided that it was important to understand all the reported root causes of delayed flights by the [BTS or Bureau of Transportation Statistics](https://www.bts.gov/topics/airlines-and-airports/understanding-reporting-causes-flight-delays-and-cancellations) of the United States. As it can be seen in the image below:\n",
    "\n",
    "**Note:** Run the code below to see the image. It did not work following the Markdown documente [here](https://github.com/adam-p/markdown-here/wiki/Markdown-Cheatsheet#images)."
   ]
  },
  {
   "cell_type": "code",
   "execution_count": 37,
   "id": "corrected-findings",
   "metadata": {},
   "outputs": [
    {
     "data": {
      "image/png": "[encoded data removed]",
      "text/plain": [
       "<IPython.core.display.Image object>"
      ]
     },
     "execution_count": 37,
     "metadata": {},
     "output_type": "execute_result"
    }
   ],
   "source": [
    "from IPython.display import Image\n",
    "Image(\"images/Delay Cause by Year, 2003-2019 crop.png\")\n",
    "\n",
    "#source: https://www.bts.gov/topics/airlines-and-airports/understanding-reporting-causes-flight-delays-and-cancellations"
   ]
  },
  {
   "cell_type": "markdown",
   "id": "restricted-madness",
   "metadata": {},
   "source": [
    "Since the nature of the data is unbalanced it was important to find an algorithm that was able to work properly in this situations. Both the **Decision Trees** and **Random Forest** algorithms worked pretty and yielded excellent results nearly with perfect acurracies and almost a value of zero in the **logaritmic loss**. However, both algorithms required a long time to compile in comparrisson to the Ada Boost algorithm. Due to this the **Ada Boost** algorithm should be consider the **best** in this analysis.  "
   ]
  },
  {
   "cell_type": "code",
   "execution_count": null,
   "id": "fatal-gasoline",
   "metadata": {},
   "outputs": [],
   "source": []
  },
  {
   "cell_type": "code",
   "execution_count": null,
   "id": "starting-locator",
   "metadata": {},
   "outputs": [],
   "source": []
  }
 ],
 "metadata": {
  "kernelspec": {
   "display_name": "Python 3",
   "language": "python",
   "name": "python3"
  },
  "language_info": {
   "codemirror_mode": {
    "name": "ipython",
    "version": 3
   },
   "file_extension": ".py",
   "mimetype": "text/x-python",
   "name": "python",
   "nbconvert_exporter": "python",
   "pygments_lexer": "ipython3",
   "version": "3.7.10"
  }
 },
 "nbformat": 4,
 "nbformat_minor": 5
}
